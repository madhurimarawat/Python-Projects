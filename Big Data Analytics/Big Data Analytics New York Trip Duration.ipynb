{
 "cells": [
  {
   "cell_type": "markdown",
   "id": "ec8921f6",
   "metadata": {},
   "source": [
    "## Doing Big Data Analytics on Taxi Trip Dataset along with Visualization"
   ]
  },
  {
   "cell_type": "code",
   "execution_count": 1,
   "id": "554de706",
   "metadata": {},
   "outputs": [],
   "source": [
    "# Importing required libraries\n",
    "import pandas as pd\n",
    "import seaborn as sns\n",
    "import matplotlib.pyplot as plt"
   ]
  },
  {
   "cell_type": "markdown",
   "id": "973ac506",
   "metadata": {},
   "source": [
    "### Reading CSV File"
   ]
  },
  {
   "cell_type": "code",
   "execution_count": 2,
   "id": "535817aa",
   "metadata": {},
   "outputs": [
    {
     "name": "stdout",
     "output_type": "stream",
     "text": [
      "Dataset is:\n",
      "\n"
     ]
    },
    {
     "data": {
      "text/html": [
       "<div>\n",
       "<style scoped>\n",
       "    .dataframe tbody tr th:only-of-type {\n",
       "        vertical-align: middle;\n",
       "    }\n",
       "\n",
       "    .dataframe tbody tr th {\n",
       "        vertical-align: top;\n",
       "    }\n",
       "\n",
       "    .dataframe thead th {\n",
       "        text-align: right;\n",
       "    }\n",
       "</style>\n",
       "<table border=\"1\" class=\"dataframe\">\n",
       "  <thead>\n",
       "    <tr style=\"text-align: right;\">\n",
       "      <th></th>\n",
       "      <th>id</th>\n",
       "      <th>vendor_id</th>\n",
       "      <th>pickup_datetime</th>\n",
       "      <th>dropoff_datetime</th>\n",
       "      <th>passenger_count</th>\n",
       "      <th>pickup_longitude</th>\n",
       "      <th>pickup_latitude</th>\n",
       "      <th>dropoff_longitude</th>\n",
       "      <th>dropoff_latitude</th>\n",
       "      <th>store_and_fwd_flag</th>\n",
       "      <th>trip_duration</th>\n",
       "    </tr>\n",
       "  </thead>\n",
       "  <tbody>\n",
       "    <tr>\n",
       "      <th>0</th>\n",
       "      <td>id1080784</td>\n",
       "      <td>2</td>\n",
       "      <td>2016-02-29 16:40:21</td>\n",
       "      <td>2016-02-29 16:47:01</td>\n",
       "      <td>1</td>\n",
       "      <td>-73.953918</td>\n",
       "      <td>40.778873</td>\n",
       "      <td>-73.963875</td>\n",
       "      <td>40.771164</td>\n",
       "      <td>N</td>\n",
       "      <td>400</td>\n",
       "    </tr>\n",
       "    <tr>\n",
       "      <th>1</th>\n",
       "      <td>id0889885</td>\n",
       "      <td>1</td>\n",
       "      <td>2016-03-11 23:35:37</td>\n",
       "      <td>2016-03-11 23:53:57</td>\n",
       "      <td>2</td>\n",
       "      <td>-73.988312</td>\n",
       "      <td>40.731743</td>\n",
       "      <td>-73.994751</td>\n",
       "      <td>40.694931</td>\n",
       "      <td>N</td>\n",
       "      <td>1100</td>\n",
       "    </tr>\n",
       "    <tr>\n",
       "      <th>2</th>\n",
       "      <td>id0857912</td>\n",
       "      <td>2</td>\n",
       "      <td>2016-02-21 17:59:33</td>\n",
       "      <td>2016-02-21 18:26:48</td>\n",
       "      <td>2</td>\n",
       "      <td>-73.997314</td>\n",
       "      <td>40.721458</td>\n",
       "      <td>-73.948029</td>\n",
       "      <td>40.774918</td>\n",
       "      <td>N</td>\n",
       "      <td>1635</td>\n",
       "    </tr>\n",
       "    <tr>\n",
       "      <th>3</th>\n",
       "      <td>id3744273</td>\n",
       "      <td>2</td>\n",
       "      <td>2016-01-05 09:44:31</td>\n",
       "      <td>2016-01-05 10:03:32</td>\n",
       "      <td>6</td>\n",
       "      <td>-73.961670</td>\n",
       "      <td>40.759720</td>\n",
       "      <td>-73.956779</td>\n",
       "      <td>40.780628</td>\n",
       "      <td>N</td>\n",
       "      <td>1141</td>\n",
       "    </tr>\n",
       "    <tr>\n",
       "      <th>4</th>\n",
       "      <td>id0232939</td>\n",
       "      <td>1</td>\n",
       "      <td>2016-02-17 06:42:23</td>\n",
       "      <td>2016-02-17 06:56:31</td>\n",
       "      <td>1</td>\n",
       "      <td>-74.017120</td>\n",
       "      <td>40.708469</td>\n",
       "      <td>-73.988182</td>\n",
       "      <td>40.740631</td>\n",
       "      <td>N</td>\n",
       "      <td>848</td>\n",
       "    </tr>\n",
       "  </tbody>\n",
       "</table>\n",
       "</div>"
      ],
      "text/plain": [
       "          id  vendor_id     pickup_datetime    dropoff_datetime  \\\n",
       "0  id1080784          2 2016-02-29 16:40:21 2016-02-29 16:47:01   \n",
       "1  id0889885          1 2016-03-11 23:35:37 2016-03-11 23:53:57   \n",
       "2  id0857912          2 2016-02-21 17:59:33 2016-02-21 18:26:48   \n",
       "3  id3744273          2 2016-01-05 09:44:31 2016-01-05 10:03:32   \n",
       "4  id0232939          1 2016-02-17 06:42:23 2016-02-17 06:56:31   \n",
       "\n",
       "   passenger_count  pickup_longitude  pickup_latitude  dropoff_longitude  \\\n",
       "0                1        -73.953918        40.778873         -73.963875   \n",
       "1                2        -73.988312        40.731743         -73.994751   \n",
       "2                2        -73.997314        40.721458         -73.948029   \n",
       "3                6        -73.961670        40.759720         -73.956779   \n",
       "4                1        -74.017120        40.708469         -73.988182   \n",
       "\n",
       "   dropoff_latitude store_and_fwd_flag  trip_duration  \n",
       "0         40.771164                  N            400  \n",
       "1         40.694931                  N           1100  \n",
       "2         40.774918                  N           1635  \n",
       "3         40.780628                  N           1141  \n",
       "4         40.740631                  N            848  "
      ]
     },
     "execution_count": 2,
     "metadata": {},
     "output_type": "execute_result"
    }
   ],
   "source": [
    "# Reading CSV file and parsing date time columns\n",
    "df = pd.read_csv(\"New York Taxi Trip Duration.csv\", parse_dates = [\"pickup_datetime\", \"dropoff_datetime\"])\n",
    "\n",
    "# Seeing First 6 rows of dataset to learn its structure\n",
    "print(\"Dataset is:\\n\")\n",
    "df.head()"
   ]
  },
  {
   "cell_type": "markdown",
   "id": "4b01bcf7",
   "metadata": {},
   "source": [
    "### Seeing Columns of dataset"
   ]
  },
  {
   "cell_type": "code",
   "execution_count": 24,
   "id": "cbdd1544",
   "metadata": {},
   "outputs": [
    {
     "name": "stdout",
     "output_type": "stream",
     "text": [
      "Columns Of Dataset are:\n",
      "\n"
     ]
    },
    {
     "data": {
      "text/plain": [
       "Index(['vendor_id', 'pickup_datetime', 'dropoff_datetime', 'passenger_count',\n",
       "       'pickup_longitude', 'pickup_latitude', 'dropoff_longitude',\n",
       "       'dropoff_latitude', 'store_and_fwd_flag', 'trip_duration',\n",
       "       'pickup_hour', 'pickup_dayofweek'],\n",
       "      dtype='object')"
      ]
     },
     "execution_count": 24,
     "metadata": {},
     "output_type": "execute_result"
    }
   ],
   "source": [
    "print(\"Columns Of Dataset are:\\n\")\n",
    "df.columns"
   ]
  },
  {
   "cell_type": "markdown",
   "id": "13359b4f",
   "metadata": {},
   "source": [
    "### Seeing Datatypes of Columns"
   ]
  },
  {
   "cell_type": "code",
   "execution_count": 4,
   "id": "40fd8536",
   "metadata": {},
   "outputs": [
    {
     "name": "stdout",
     "output_type": "stream",
     "text": [
      "Datatype of Columns Of Dataset are:\n",
      "\n"
     ]
    },
    {
     "data": {
      "text/plain": [
       "id                            object\n",
       "vendor_id                      int64\n",
       "pickup_datetime       datetime64[ns]\n",
       "dropoff_datetime      datetime64[ns]\n",
       "passenger_count                int64\n",
       "pickup_longitude             float64\n",
       "pickup_latitude              float64\n",
       "dropoff_longitude            float64\n",
       "dropoff_latitude             float64\n",
       "store_and_fwd_flag            object\n",
       "trip_duration                  int64\n",
       "dtype: object"
      ]
     },
     "execution_count": 4,
     "metadata": {},
     "output_type": "execute_result"
    }
   ],
   "source": [
    "print(\"Datatype of Columns Of Dataset are:\\n\")\n",
    "df.dtypes"
   ]
  },
  {
   "cell_type": "markdown",
   "id": "d08923b6",
   "metadata": {},
   "source": [
    "### Descriptive Statistics of Dataset"
   ]
  },
  {
   "cell_type": "code",
   "execution_count": 5,
   "id": "471850ce",
   "metadata": {},
   "outputs": [
    {
     "name": "stdout",
     "output_type": "stream",
     "text": [
      "Descriptive Statistics of Dataset is:\n",
      "\n"
     ]
    },
    {
     "data": {
      "text/html": [
       "<div>\n",
       "<style scoped>\n",
       "    .dataframe tbody tr th:only-of-type {\n",
       "        vertical-align: middle;\n",
       "    }\n",
       "\n",
       "    .dataframe tbody tr th {\n",
       "        vertical-align: top;\n",
       "    }\n",
       "\n",
       "    .dataframe thead th {\n",
       "        text-align: right;\n",
       "    }\n",
       "</style>\n",
       "<table border=\"1\" class=\"dataframe\">\n",
       "  <thead>\n",
       "    <tr style=\"text-align: right;\">\n",
       "      <th></th>\n",
       "      <th>id</th>\n",
       "      <th>vendor_id</th>\n",
       "      <th>pickup_datetime</th>\n",
       "      <th>dropoff_datetime</th>\n",
       "      <th>passenger_count</th>\n",
       "      <th>pickup_longitude</th>\n",
       "      <th>pickup_latitude</th>\n",
       "      <th>dropoff_longitude</th>\n",
       "      <th>dropoff_latitude</th>\n",
       "      <th>store_and_fwd_flag</th>\n",
       "      <th>trip_duration</th>\n",
       "    </tr>\n",
       "  </thead>\n",
       "  <tbody>\n",
       "    <tr>\n",
       "      <th>count</th>\n",
       "      <td>729322</td>\n",
       "      <td>729322.000000</td>\n",
       "      <td>729322</td>\n",
       "      <td>729322</td>\n",
       "      <td>729322.000000</td>\n",
       "      <td>729322.000000</td>\n",
       "      <td>729322.000000</td>\n",
       "      <td>729322.000000</td>\n",
       "      <td>729322.000000</td>\n",
       "      <td>729322</td>\n",
       "      <td>7.293220e+05</td>\n",
       "    </tr>\n",
       "    <tr>\n",
       "      <th>unique</th>\n",
       "      <td>729322</td>\n",
       "      <td>NaN</td>\n",
       "      <td>NaN</td>\n",
       "      <td>NaN</td>\n",
       "      <td>NaN</td>\n",
       "      <td>NaN</td>\n",
       "      <td>NaN</td>\n",
       "      <td>NaN</td>\n",
       "      <td>NaN</td>\n",
       "      <td>2</td>\n",
       "      <td>NaN</td>\n",
       "    </tr>\n",
       "    <tr>\n",
       "      <th>top</th>\n",
       "      <td>id1080784</td>\n",
       "      <td>NaN</td>\n",
       "      <td>NaN</td>\n",
       "      <td>NaN</td>\n",
       "      <td>NaN</td>\n",
       "      <td>NaN</td>\n",
       "      <td>NaN</td>\n",
       "      <td>NaN</td>\n",
       "      <td>NaN</td>\n",
       "      <td>N</td>\n",
       "      <td>NaN</td>\n",
       "    </tr>\n",
       "    <tr>\n",
       "      <th>freq</th>\n",
       "      <td>1</td>\n",
       "      <td>NaN</td>\n",
       "      <td>NaN</td>\n",
       "      <td>NaN</td>\n",
       "      <td>NaN</td>\n",
       "      <td>NaN</td>\n",
       "      <td>NaN</td>\n",
       "      <td>NaN</td>\n",
       "      <td>NaN</td>\n",
       "      <td>725282</td>\n",
       "      <td>NaN</td>\n",
       "    </tr>\n",
       "    <tr>\n",
       "      <th>mean</th>\n",
       "      <td>NaN</td>\n",
       "      <td>1.535403</td>\n",
       "      <td>2016-04-01 11:17:42.123299584</td>\n",
       "      <td>2016-04-01 11:33:34.352432128</td>\n",
       "      <td>1.662055</td>\n",
       "      <td>-73.973513</td>\n",
       "      <td>40.750919</td>\n",
       "      <td>-73.973422</td>\n",
       "      <td>40.751775</td>\n",
       "      <td>NaN</td>\n",
       "      <td>9.522291e+02</td>\n",
       "    </tr>\n",
       "    <tr>\n",
       "      <th>min</th>\n",
       "      <td>NaN</td>\n",
       "      <td>1.000000</td>\n",
       "      <td>2016-01-01 00:01:14</td>\n",
       "      <td>2016-01-01 00:05:54</td>\n",
       "      <td>0.000000</td>\n",
       "      <td>-121.933342</td>\n",
       "      <td>34.712234</td>\n",
       "      <td>-121.933304</td>\n",
       "      <td>32.181141</td>\n",
       "      <td>NaN</td>\n",
       "      <td>1.000000e+00</td>\n",
       "    </tr>\n",
       "    <tr>\n",
       "      <th>25%</th>\n",
       "      <td>NaN</td>\n",
       "      <td>1.000000</td>\n",
       "      <td>2016-02-17 18:46:36.249999872</td>\n",
       "      <td>2016-02-17 19:00:30.500000</td>\n",
       "      <td>1.000000</td>\n",
       "      <td>-73.991859</td>\n",
       "      <td>40.737335</td>\n",
       "      <td>-73.991318</td>\n",
       "      <td>40.735931</td>\n",
       "      <td>NaN</td>\n",
       "      <td>3.970000e+02</td>\n",
       "    </tr>\n",
       "    <tr>\n",
       "      <th>50%</th>\n",
       "      <td>NaN</td>\n",
       "      <td>2.000000</td>\n",
       "      <td>2016-04-01 17:30:37.500000</td>\n",
       "      <td>2016-04-01 17:46:47.500000</td>\n",
       "      <td>1.000000</td>\n",
       "      <td>-73.981758</td>\n",
       "      <td>40.754070</td>\n",
       "      <td>-73.979759</td>\n",
       "      <td>40.754509</td>\n",
       "      <td>NaN</td>\n",
       "      <td>6.630000e+02</td>\n",
       "    </tr>\n",
       "    <tr>\n",
       "      <th>75%</th>\n",
       "      <td>NaN</td>\n",
       "      <td>2.000000</td>\n",
       "      <td>2016-05-15 07:13:01.249999872</td>\n",
       "      <td>2016-05-15 07:38:40.500000</td>\n",
       "      <td>2.000000</td>\n",
       "      <td>-73.967361</td>\n",
       "      <td>40.768314</td>\n",
       "      <td>-73.963036</td>\n",
       "      <td>40.769741</td>\n",
       "      <td>NaN</td>\n",
       "      <td>1.075000e+03</td>\n",
       "    </tr>\n",
       "    <tr>\n",
       "      <th>max</th>\n",
       "      <td>NaN</td>\n",
       "      <td>2.000000</td>\n",
       "      <td>2016-06-30 23:59:37</td>\n",
       "      <td>2016-07-01 23:02:03</td>\n",
       "      <td>9.000000</td>\n",
       "      <td>-65.897385</td>\n",
       "      <td>51.881084</td>\n",
       "      <td>-65.897385</td>\n",
       "      <td>43.921028</td>\n",
       "      <td>NaN</td>\n",
       "      <td>1.939736e+06</td>\n",
       "    </tr>\n",
       "    <tr>\n",
       "      <th>std</th>\n",
       "      <td>NaN</td>\n",
       "      <td>0.498745</td>\n",
       "      <td>NaN</td>\n",
       "      <td>NaN</td>\n",
       "      <td>1.312446</td>\n",
       "      <td>0.069754</td>\n",
       "      <td>0.033594</td>\n",
       "      <td>0.069588</td>\n",
       "      <td>0.036037</td>\n",
       "      <td>NaN</td>\n",
       "      <td>3.864626e+03</td>\n",
       "    </tr>\n",
       "  </tbody>\n",
       "</table>\n",
       "</div>"
      ],
      "text/plain": [
       "               id      vendor_id                pickup_datetime  \\\n",
       "count      729322  729322.000000                         729322   \n",
       "unique     729322            NaN                            NaN   \n",
       "top     id1080784            NaN                            NaN   \n",
       "freq            1            NaN                            NaN   \n",
       "mean          NaN       1.535403  2016-04-01 11:17:42.123299584   \n",
       "min           NaN       1.000000            2016-01-01 00:01:14   \n",
       "25%           NaN       1.000000  2016-02-17 18:46:36.249999872   \n",
       "50%           NaN       2.000000     2016-04-01 17:30:37.500000   \n",
       "75%           NaN       2.000000  2016-05-15 07:13:01.249999872   \n",
       "max           NaN       2.000000            2016-06-30 23:59:37   \n",
       "std           NaN       0.498745                            NaN   \n",
       "\n",
       "                     dropoff_datetime  passenger_count  pickup_longitude  \\\n",
       "count                          729322    729322.000000     729322.000000   \n",
       "unique                            NaN              NaN               NaN   \n",
       "top                               NaN              NaN               NaN   \n",
       "freq                              NaN              NaN               NaN   \n",
       "mean    2016-04-01 11:33:34.352432128         1.662055        -73.973513   \n",
       "min               2016-01-01 00:05:54         0.000000       -121.933342   \n",
       "25%        2016-02-17 19:00:30.500000         1.000000        -73.991859   \n",
       "50%        2016-04-01 17:46:47.500000         1.000000        -73.981758   \n",
       "75%        2016-05-15 07:38:40.500000         2.000000        -73.967361   \n",
       "max               2016-07-01 23:02:03         9.000000        -65.897385   \n",
       "std                               NaN         1.312446          0.069754   \n",
       "\n",
       "        pickup_latitude  dropoff_longitude  dropoff_latitude  \\\n",
       "count     729322.000000      729322.000000     729322.000000   \n",
       "unique              NaN                NaN               NaN   \n",
       "top                 NaN                NaN               NaN   \n",
       "freq                NaN                NaN               NaN   \n",
       "mean          40.750919         -73.973422         40.751775   \n",
       "min           34.712234        -121.933304         32.181141   \n",
       "25%           40.737335         -73.991318         40.735931   \n",
       "50%           40.754070         -73.979759         40.754509   \n",
       "75%           40.768314         -73.963036         40.769741   \n",
       "max           51.881084         -65.897385         43.921028   \n",
       "std            0.033594           0.069588          0.036037   \n",
       "\n",
       "       store_and_fwd_flag  trip_duration  \n",
       "count              729322   7.293220e+05  \n",
       "unique                  2            NaN  \n",
       "top                     N            NaN  \n",
       "freq               725282            NaN  \n",
       "mean                  NaN   9.522291e+02  \n",
       "min                   NaN   1.000000e+00  \n",
       "25%                   NaN   3.970000e+02  \n",
       "50%                   NaN   6.630000e+02  \n",
       "75%                   NaN   1.075000e+03  \n",
       "max                   NaN   1.939736e+06  \n",
       "std                   NaN   3.864626e+03  "
      ]
     },
     "execution_count": 5,
     "metadata": {},
     "output_type": "execute_result"
    }
   ],
   "source": [
    "print(\"Descriptive Statistics of Dataset is:\\n\")\n",
    "df.describe(include = 'all', datetime_is_numeric = True)"
   ]
  },
  {
   "cell_type": "markdown",
   "id": "dab29deb",
   "metadata": {},
   "source": [
    "### Checking for Null values"
   ]
  },
  {
   "cell_type": "code",
   "execution_count": 6,
   "id": "a210cf11",
   "metadata": {},
   "outputs": [
    {
     "name": "stdout",
     "output_type": "stream",
     "text": [
      "Null Values in Dataset are:\n",
      "\n",
      "id                    0\n",
      "vendor_id             0\n",
      "pickup_datetime       0\n",
      "dropoff_datetime      0\n",
      "passenger_count       0\n",
      "pickup_longitude      0\n",
      "pickup_latitude       0\n",
      "dropoff_longitude     0\n",
      "dropoff_latitude      0\n",
      "store_and_fwd_flag    0\n",
      "trip_duration         0\n",
      "dtype: int64\n"
     ]
    }
   ],
   "source": [
    "print(\"Null Values in Dataset are:\\n\")\n",
    "print(df.isna().sum())"
   ]
  },
  {
   "cell_type": "markdown",
   "id": "4f2179d3",
   "metadata": {},
   "source": [
    "### Now we will focus on object columns"
   ]
  },
  {
   "cell_type": "code",
   "execution_count": 7,
   "id": "3eaa85ef",
   "metadata": {},
   "outputs": [
    {
     "name": "stdout",
     "output_type": "stream",
     "text": [
      "Columns with object datatype are:\n",
      "               id store_and_fwd_flag\n",
      "0       id1080784                  N\n",
      "1       id0889885                  N\n",
      "2       id0857912                  N\n",
      "3       id3744273                  N\n",
      "4       id0232939                  N\n",
      "...           ...                ...\n",
      "729317  id3905982                  N\n",
      "729318  id0102861                  N\n",
      "729319  id0439699                  N\n",
      "729320  id2078912                  N\n",
      "729321  id1053441                  N\n",
      "\n",
      "[729322 rows x 2 columns]\n"
     ]
    }
   ],
   "source": [
    "# Print only columns with \"object\" datatype\n",
    "object_columns = df.dtypes[df.dtypes == \"object\"].index\n",
    "\n",
    "print(\"Columns with object datatype are:\")\n",
    "print(df[object_columns])"
   ]
  },
  {
   "cell_type": "markdown",
   "id": "7b413b1c",
   "metadata": {},
   "source": [
    "### Column store_and_fwd_flag is categorical column so we will encode it and Id column we are going to remove as it is not useful"
   ]
  },
  {
   "cell_type": "code",
   "execution_count": 8,
   "id": "cfc63e34",
   "metadata": {},
   "outputs": [
    {
     "name": "stdout",
     "output_type": "stream",
     "text": [
      "Unique Classes/Categories in Column store_and_fwd_flag are:\n",
      "\n",
      "N    725282\n",
      "Y      4040\n",
      "Name: store_and_fwd_flag, dtype: int64\n"
     ]
    }
   ],
   "source": [
    "print(\"Unique Classes/Categories in Column store_and_fwd_flag are:\\n\")\n",
    "print(df['store_and_fwd_flag'].value_counts())\n",
    "\n",
    "# Removing Column Id from dataset\n",
    "df.drop(columns = [\"id\"], inplace = True)"
   ]
  },
  {
   "cell_type": "markdown",
   "id": "b3c04eaf",
   "metadata": {},
   "source": [
    "### Encoding store_and_fwd_flag Column"
   ]
  },
  {
   "cell_type": "code",
   "execution_count": 9,
   "id": "09b8df64",
   "metadata": {},
   "outputs": [
    {
     "name": "stdout",
     "output_type": "stream",
     "text": [
      "Column store_and_fwd_flag after encoding is:\n",
      "\n",
      "0         0\n",
      "1         0\n",
      "2         0\n",
      "3         0\n",
      "4         0\n",
      "         ..\n",
      "729317    0\n",
      "729318    0\n",
      "729319    0\n",
      "729320    0\n",
      "729321    0\n",
      "Name: store_and_fwd_flag, Length: 729322, dtype: int64\n"
     ]
    }
   ],
   "source": [
    "df['store_and_fwd_flag'] = df['store_and_fwd_flag'].map({'Y' : 1, 'N' : 0})\n",
    "\n",
    "print(\"Column store_and_fwd_flag after encoding is:\\n\")\n",
    "print(df['store_and_fwd_flag'])"
   ]
  },
  {
   "cell_type": "markdown",
   "id": "d681f7ce",
   "metadata": {},
   "source": [
    "### Descriptive Statistics of dataset after Preprocessing"
   ]
  },
  {
   "cell_type": "code",
   "execution_count": 10,
   "id": "2a88f3c4",
   "metadata": {},
   "outputs": [
    {
     "name": "stdout",
     "output_type": "stream",
     "text": [
      "Descriptive Statistics of Dataset after Preprocessing is:\n",
      "\n"
     ]
    },
    {
     "data": {
      "text/html": [
       "<div>\n",
       "<style scoped>\n",
       "    .dataframe tbody tr th:only-of-type {\n",
       "        vertical-align: middle;\n",
       "    }\n",
       "\n",
       "    .dataframe tbody tr th {\n",
       "        vertical-align: top;\n",
       "    }\n",
       "\n",
       "    .dataframe thead th {\n",
       "        text-align: right;\n",
       "    }\n",
       "</style>\n",
       "<table border=\"1\" class=\"dataframe\">\n",
       "  <thead>\n",
       "    <tr style=\"text-align: right;\">\n",
       "      <th></th>\n",
       "      <th>vendor_id</th>\n",
       "      <th>pickup_datetime</th>\n",
       "      <th>dropoff_datetime</th>\n",
       "      <th>passenger_count</th>\n",
       "      <th>pickup_longitude</th>\n",
       "      <th>pickup_latitude</th>\n",
       "      <th>dropoff_longitude</th>\n",
       "      <th>dropoff_latitude</th>\n",
       "      <th>store_and_fwd_flag</th>\n",
       "      <th>trip_duration</th>\n",
       "    </tr>\n",
       "  </thead>\n",
       "  <tbody>\n",
       "    <tr>\n",
       "      <th>count</th>\n",
       "      <td>729322.000000</td>\n",
       "      <td>729322</td>\n",
       "      <td>729322</td>\n",
       "      <td>729322.000000</td>\n",
       "      <td>729322.000000</td>\n",
       "      <td>729322.000000</td>\n",
       "      <td>729322.000000</td>\n",
       "      <td>729322.000000</td>\n",
       "      <td>729322.000000</td>\n",
       "      <td>7.293220e+05</td>\n",
       "    </tr>\n",
       "    <tr>\n",
       "      <th>mean</th>\n",
       "      <td>1.535403</td>\n",
       "      <td>2016-04-01 11:17:42.123299584</td>\n",
       "      <td>2016-04-01 11:33:34.352432128</td>\n",
       "      <td>1.662055</td>\n",
       "      <td>-73.973513</td>\n",
       "      <td>40.750919</td>\n",
       "      <td>-73.973422</td>\n",
       "      <td>40.751775</td>\n",
       "      <td>0.005539</td>\n",
       "      <td>9.522291e+02</td>\n",
       "    </tr>\n",
       "    <tr>\n",
       "      <th>min</th>\n",
       "      <td>1.000000</td>\n",
       "      <td>2016-01-01 00:01:14</td>\n",
       "      <td>2016-01-01 00:05:54</td>\n",
       "      <td>0.000000</td>\n",
       "      <td>-121.933342</td>\n",
       "      <td>34.712234</td>\n",
       "      <td>-121.933304</td>\n",
       "      <td>32.181141</td>\n",
       "      <td>0.000000</td>\n",
       "      <td>1.000000e+00</td>\n",
       "    </tr>\n",
       "    <tr>\n",
       "      <th>25%</th>\n",
       "      <td>1.000000</td>\n",
       "      <td>2016-02-17 18:46:36.249999872</td>\n",
       "      <td>2016-02-17 19:00:30.500000</td>\n",
       "      <td>1.000000</td>\n",
       "      <td>-73.991859</td>\n",
       "      <td>40.737335</td>\n",
       "      <td>-73.991318</td>\n",
       "      <td>40.735931</td>\n",
       "      <td>0.000000</td>\n",
       "      <td>3.970000e+02</td>\n",
       "    </tr>\n",
       "    <tr>\n",
       "      <th>50%</th>\n",
       "      <td>2.000000</td>\n",
       "      <td>2016-04-01 17:30:37.500000</td>\n",
       "      <td>2016-04-01 17:46:47.500000</td>\n",
       "      <td>1.000000</td>\n",
       "      <td>-73.981758</td>\n",
       "      <td>40.754070</td>\n",
       "      <td>-73.979759</td>\n",
       "      <td>40.754509</td>\n",
       "      <td>0.000000</td>\n",
       "      <td>6.630000e+02</td>\n",
       "    </tr>\n",
       "    <tr>\n",
       "      <th>75%</th>\n",
       "      <td>2.000000</td>\n",
       "      <td>2016-05-15 07:13:01.249999872</td>\n",
       "      <td>2016-05-15 07:38:40.500000</td>\n",
       "      <td>2.000000</td>\n",
       "      <td>-73.967361</td>\n",
       "      <td>40.768314</td>\n",
       "      <td>-73.963036</td>\n",
       "      <td>40.769741</td>\n",
       "      <td>0.000000</td>\n",
       "      <td>1.075000e+03</td>\n",
       "    </tr>\n",
       "    <tr>\n",
       "      <th>max</th>\n",
       "      <td>2.000000</td>\n",
       "      <td>2016-06-30 23:59:37</td>\n",
       "      <td>2016-07-01 23:02:03</td>\n",
       "      <td>9.000000</td>\n",
       "      <td>-65.897385</td>\n",
       "      <td>51.881084</td>\n",
       "      <td>-65.897385</td>\n",
       "      <td>43.921028</td>\n",
       "      <td>1.000000</td>\n",
       "      <td>1.939736e+06</td>\n",
       "    </tr>\n",
       "    <tr>\n",
       "      <th>std</th>\n",
       "      <td>0.498745</td>\n",
       "      <td>NaN</td>\n",
       "      <td>NaN</td>\n",
       "      <td>1.312446</td>\n",
       "      <td>0.069754</td>\n",
       "      <td>0.033594</td>\n",
       "      <td>0.069588</td>\n",
       "      <td>0.036037</td>\n",
       "      <td>0.074221</td>\n",
       "      <td>3.864626e+03</td>\n",
       "    </tr>\n",
       "  </tbody>\n",
       "</table>\n",
       "</div>"
      ],
      "text/plain": [
       "           vendor_id                pickup_datetime  \\\n",
       "count  729322.000000                         729322   \n",
       "mean        1.535403  2016-04-01 11:17:42.123299584   \n",
       "min         1.000000            2016-01-01 00:01:14   \n",
       "25%         1.000000  2016-02-17 18:46:36.249999872   \n",
       "50%         2.000000     2016-04-01 17:30:37.500000   \n",
       "75%         2.000000  2016-05-15 07:13:01.249999872   \n",
       "max         2.000000            2016-06-30 23:59:37   \n",
       "std         0.498745                            NaN   \n",
       "\n",
       "                    dropoff_datetime  passenger_count  pickup_longitude  \\\n",
       "count                         729322    729322.000000     729322.000000   \n",
       "mean   2016-04-01 11:33:34.352432128         1.662055        -73.973513   \n",
       "min              2016-01-01 00:05:54         0.000000       -121.933342   \n",
       "25%       2016-02-17 19:00:30.500000         1.000000        -73.991859   \n",
       "50%       2016-04-01 17:46:47.500000         1.000000        -73.981758   \n",
       "75%       2016-05-15 07:38:40.500000         2.000000        -73.967361   \n",
       "max              2016-07-01 23:02:03         9.000000        -65.897385   \n",
       "std                              NaN         1.312446          0.069754   \n",
       "\n",
       "       pickup_latitude  dropoff_longitude  dropoff_latitude  \\\n",
       "count    729322.000000      729322.000000     729322.000000   \n",
       "mean         40.750919         -73.973422         40.751775   \n",
       "min          34.712234        -121.933304         32.181141   \n",
       "25%          40.737335         -73.991318         40.735931   \n",
       "50%          40.754070         -73.979759         40.754509   \n",
       "75%          40.768314         -73.963036         40.769741   \n",
       "max          51.881084         -65.897385         43.921028   \n",
       "std           0.033594           0.069588          0.036037   \n",
       "\n",
       "       store_and_fwd_flag  trip_duration  \n",
       "count       729322.000000   7.293220e+05  \n",
       "mean             0.005539   9.522291e+02  \n",
       "min              0.000000   1.000000e+00  \n",
       "25%              0.000000   3.970000e+02  \n",
       "50%              0.000000   6.630000e+02  \n",
       "75%              0.000000   1.075000e+03  \n",
       "max              1.000000   1.939736e+06  \n",
       "std              0.074221   3.864626e+03  "
      ]
     },
     "execution_count": 10,
     "metadata": {},
     "output_type": "execute_result"
    }
   ],
   "source": [
    "print(\"Descriptive Statistics of Dataset after Preprocessing is:\\n\")\n",
    "df.describe(include = 'all', datetime_is_numeric = True)"
   ]
  },
  {
   "cell_type": "markdown",
   "id": "091148fe",
   "metadata": {},
   "source": [
    "## Data Visualization"
   ]
  },
  {
   "cell_type": "markdown",
   "id": "9ab7c942",
   "metadata": {},
   "source": [
    "### Plotting Histogram of Trip Duration and Frequency"
   ]
  },
  {
   "cell_type": "code",
   "execution_count": 11,
   "id": "895f3b99",
   "metadata": {},
   "outputs": [
    {
     "data": {
      "image/png": "[encoded data removed]",
      "text/plain": [
       "<Figure size 640x480 with 1 Axes>"
      ]
     },
     "metadata": {},
     "output_type": "display_data"
    }
   ],
   "source": [
    "# Plotting Histogram\n",
    "sns.histplot(x = 'trip_duration', data = df, bins=30, kde=False, color='skyblue')\n",
    "\n",
    "# Adding Labels\n",
    "plt.xlabel(\"Trip Duration (seconds)\")\n",
    "plt.ylabel(\"Frequency\")\n",
    "plt.title(\"Distribution of Trip Durations\")\n",
    "plt.show()"
   ]
  },
  {
   "cell_type": "markdown",
   "id": "061d21be",
   "metadata": {},
   "source": [
    "### Aggregating the Dataframe"
   ]
  },
  {
   "cell_type": "markdown",
   "id": "8d74fe50",
   "metadata": {},
   "source": [
    "### Explanation of the Code\n",
    "\n",
    "1. **Adding New Features:**\n",
    "   ```python\n",
    "   df['pickup_hour'] = df['pickup_datetime'].dt.hour\n",
    "   df['pickup_dayofweek'] = df['pickup_datetime'].dt.dayofweek + 1\n",
    "   ```\n",
    "   - **`df['pickup_datetime'].dt.hour`:** This extracts the hour component from the 'pickup_datetime' column using the `dt.hour` accessor. It creates a new column called 'pickup_hour' containing the hour of the day when the trip occurred.\n",
    "\n",
    "   - **`df['pickup_datetime'].dt.dayofweek + 1`:** This extracts the day of the week from the 'pickup_datetime' column using the `dt.dayofweek` accessor. The addition of 1 is done to match the numbering convention where Monday is 1 and Sunday is 7. The result is stored in a new column called 'pickup_dayofweek'.\n",
    "\n",
    "<br>\n",
    "\n",
    "2. **Aggregating and Summarizing Data:**\n",
    "   ```python\n",
    "   avg_duration_by_hour = df.groupby(\"pickup_hour\")[\"trip_duration\"].mean().reset_index()\n",
    "   avg_duration_by_day = df.groupby(\"pickup_dayofweek\")[\"trip_duration\"].mean().reset_index()\n",
    "   ```\n",
    "   - **`df.groupby(\"pickup_hour\")[\"trip_duration\"].mean()`:** This groups the DataFrame by the 'pickup_hour' column and calculates the mean of the 'trip_duration' for each group. The result is a new DataFrame, `avg_duration_by_hour`, containing the average trip duration for each hour.\n",
    "\n",
    "   - **`df.groupby(\"pickup_dayofweek\")[\"trip_duration\"].mean()`:** This groups the DataFrame by the 'pickup_dayofweek' column and calculates the mean of the 'trip_duration' for each day of the week. The result is a new DataFrame, `avg_duration_by_day`, containing the average trip duration for each day of the week.\n",
    "\n",
    "   - **`reset_index()`:** This function is used to reset the index of the resulting DataFrames, making 'pickup_hour' and 'pickup_dayofweek' regular columns.\n",
    "   \n",
    " #### **February 2016 Calender to Match day of week**\n",
    " \n",
    " <img src=\"https://www.calendarpedia.com/images-large/months/2016/february-2016-calendar.png\" height=\"100\" width = \"200\">"
   ]
  },
  {
   "cell_type": "code",
   "execution_count": 12,
   "id": "3a81d255",
   "metadata": {},
   "outputs": [
    {
     "name": "stdout",
     "output_type": "stream",
     "text": [
      "Original Column Pickup Datetime is:\n",
      "\n",
      "0   2016-02-29 16:40:21\n",
      "1   2016-03-11 23:35:37\n",
      "2   2016-02-21 17:59:33\n",
      "3   2016-01-05 09:44:31\n",
      "4   2016-02-17 06:42:23\n",
      "Name: pickup_datetime, dtype: datetime64[ns]\n",
      "\n",
      "Column Pickup Hour is:\n",
      "\n",
      "0    16\n",
      "1    23\n",
      "2    17\n",
      "3     9\n",
      "4     6\n",
      "Name: pickup_hour, dtype: int64\n",
      "\n",
      "Column Pickup Day of Week is:\n",
      "\n",
      "0    1\n",
      "1    5\n",
      "2    7\n",
      "3    2\n",
      "4    3\n",
      "Name: pickup_dayofweek, dtype: int64\n",
      "\n",
      "Original Column Trip Duration is:\n",
      "\n",
      "0     400\n",
      "1    1100\n",
      "2    1635\n",
      "3    1141\n",
      "4     848\n",
      "Name: trip_duration, dtype: int64\n",
      "\n",
      "Dataframe avg_duration_by_hour is:\n",
      "\n",
      "   pickup_hour  trip_duration\n",
      "0            0     963.991095\n",
      "1            1     917.723692\n",
      "2            2     887.775860\n",
      "3            3     914.962299\n",
      "4            4     895.426217\n",
      "\n",
      "Column avg_duration_by_day is:\n",
      "\n",
      "   pickup_dayofweek  trip_duration\n",
      "0                 1     893.184555\n",
      "1                 2     980.550279\n",
      "2                 3     975.899557\n",
      "3                 4    1005.446929\n",
      "4                 5     990.022999\n",
      "5                 6     913.986114\n",
      "6                 7     894.571088\n"
     ]
    }
   ],
   "source": [
    "# Adding new features\n",
    "df['pickup_hour'] = df['pickup_datetime'].dt.hour\n",
    "df['pickup_dayofweek'] = df['pickup_datetime'].dt.dayofweek + 1  # Adding 1 to match with PySpark's dayofweek function\n",
    "\n",
    "# Aggregating and summarizing data\n",
    "avg_duration_by_hour = df.groupby(\"pickup_hour\")[\"trip_duration\"].mean().reset_index()\n",
    "avg_duration_by_day = df.groupby(\"pickup_dayofweek\")[\"trip_duration\"].mean().reset_index()\n",
    "\n",
    "# Printing Columns one by one to understand code\n",
    "\n",
    "print(\"Original Column Pickup Datetime is:\\n\")\n",
    "print(df['pickup_datetime'].head())\n",
    "\n",
    "print(\"\\nColumn Pickup Hour is:\\n\")\n",
    "print(df['pickup_hour'].head())\n",
    "\n",
    "print(\"\\nColumn Pickup Day of Week is:\\n\")\n",
    "print(df['pickup_dayofweek'].head())\n",
    "\n",
    "print(\"\\nOriginal Column Trip Duration is:\\n\")\n",
    "print(df['trip_duration'].head())\n",
    "\n",
    "print(\"\\nDataframe avg_duration_by_hour is:\\n\")\n",
    "print(avg_duration_by_hour.head())\n",
    "\n",
    "print(\"\\nColumn avg_duration_by_day is:\\n\")\n",
    "print(avg_duration_by_day.head(n = 7))"
   ]
  },
  {
   "cell_type": "markdown",
   "id": "f6cc823c",
   "metadata": {},
   "source": [
    "### Plotting Line plot of Average Trip duration by hour"
   ]
  },
  {
   "cell_type": "code",
   "execution_count": 13,
   "id": "d21605f7",
   "metadata": {},
   "outputs": [
    {
     "data": {
      "image/png": "[encoded data removed]",
      "text/plain": [
       "<Figure size 640x480 with 1 Axes>"
      ]
     },
     "metadata": {},
     "output_type": "display_data"
    }
   ],
   "source": [
    "# Plotting average trip duration by hour\n",
    "sns.lineplot(x='pickup_hour', y='trip_duration', data=avg_duration_by_hour)\n",
    "plt.xlabel(\"Pickup Hour\")\n",
    "plt.ylabel(\"Average Trip Duration (seconds)\")\n",
    "plt.title(\"Average Trip Duration by Hour\")\n",
    "plt.show()"
   ]
  },
  {
   "cell_type": "markdown",
   "id": "ace7479a",
   "metadata": {},
   "source": [
    "### Plotting Line plot of Average Trip duration by Day of Week"
   ]
  },
  {
   "cell_type": "code",
   "execution_count": 14,
   "id": "ddc6f1a8",
   "metadata": {},
   "outputs": [
    {
     "data": {
      "image/png": "[encoded data removed]",
      "text/plain": [
       "<Figure size 640x480 with 1 Axes>"
      ]
     },
     "metadata": {},
     "output_type": "display_data"
    }
   ],
   "source": [
    "# Plotting average trip duration by hour\n",
    "sns.lineplot(x='pickup_dayofweek', y='trip_duration', data=avg_duration_by_day)\n",
    "plt.xlabel(\"Pickup Hour\")\n",
    "plt.ylabel(\"Average Trip Duration (seconds)\")\n",
    "plt.title(\"Average Trip Duration by Day of Week\")\n",
    "plt.show()"
   ]
  },
  {
   "cell_type": "markdown",
   "id": "5d413fa4",
   "metadata": {},
   "source": [
    "### Reducing Dataset"
   ]
  },
  {
   "cell_type": "code",
   "execution_count": 18,
   "id": "3fdcfe79",
   "metadata": {},
   "outputs": [
    {
     "name": "stdout",
     "output_type": "stream",
     "text": [
      "Number of Rows in Dataset are: 182330\n"
     ]
    }
   ],
   "source": [
    "number_of_rows = df.shape[0]\n",
    "\n",
    "print(\"Number of Rows in Dataset are:\", df.shape[0])\n",
    "\n",
    "# Reducing to 1/5 of actual rows\n",
    "reduced_number = df.shape[0] // 5\n",
    "df = df.head(n = reduced_number)\n",
    "\n",
    "# Saving this as CSV file\n",
    "df.to_csv(\"New York Taxi Trip Duration Reduced Preprocessed.csv\")"
   ]
  }
 ],
 "metadata": {
  "kernelspec": {
   "display_name": "Python 3 (ipykernel)",
   "language": "python",
   "name": "python3"
  },
  "language_info": {
   "codemirror_mode": {
    "name": "ipython",
    "version": 3
   },
   "file_extension": ".py",
   "mimetype": "text/x-python",
   "name": "python",
   "nbconvert_exporter": "python",
   "pygments_lexer": "ipython3",
   "version": "3.11.4"
  }
 },
 "nbformat": 4,
 "nbformat_minor": 5
}
