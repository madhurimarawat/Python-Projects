{
 "cells": [
  {
   "cell_type": "markdown",
   "id": "fa8cdae4",
   "metadata": {},
   "source": [
    "## Email Dataset Exploration\n",
    "\n",
    "### Overview:\n",
    "In this phase, we explore a variety of publicly available email datasets to identify the one most suitable for building a reliable spam classification model. Each dataset will be evaluated based on the quality and relevance of the features it provides, such as sender/receiver details, subject lines, email content, and spam labels.\n",
    "\n",
    "### Key Steps:\n",
    "- **Dataset Selection**: Review multiple datasets to assess completeness, size, and diversity of email data.\n",
    "- **Feature Analysis**: Examine the available features (sender info, subject, body text) for their potential contribution to spam classification.\n",
    "- **Spam Label Quality**: Ensure the dataset contains accurate and well-defined spam labels for training and evaluation purposes.\n",
    "\n",
    "Once a suitable dataset is identified, it will be preprocessed and prepared for model training."
   ]
  },
  {
   "cell_type": "markdown",
   "id": "d9d571b5",
   "metadata": {},
   "source": [
    "### Importing Required Libraries"
   ]
  },
  {
   "cell_type": "code",
   "execution_count": 1,
   "id": "2383f68b",
   "metadata": {},
   "outputs": [],
   "source": [
    "import pandas as pd"
   ]
  },
  {
   "cell_type": "markdown",
   "id": "b54e0262",
   "metadata": {},
   "source": [
    "## Enron Datasets\n",
    "\n",
    "## Dataset 1: Enron Datasets data.csv"
   ]
  },
  {
   "cell_type": "markdown",
   "id": "dfc6cd44",
   "metadata": {},
   "source": [
    "### Loading and Printing  Dataset"
   ]
  },
  {
   "cell_type": "code",
   "execution_count": 12,
   "id": "2a9f59d2",
   "metadata": {},
   "outputs": [
    {
     "name": "stdout",
     "output_type": "stream",
     "text": [
      "Dataset is:\n",
      "\n",
      "      Name  Emails  Year\n",
      "0    Sally    3000  1999\n",
      "1    Sally    4000  2001\n",
      "2  Richard    2000  2000\n",
      "3  Richard    6000  2001\n",
      "4   Mathew    5000  1999\n"
     ]
    }
   ],
   "source": [
    "df_1 = pd.read_csv(r\"Dataset\\Extra Dataset\\Enron Datasets\\data.csv\")\n",
    "\n",
    "print(\"Dataset is:\\n\")\n",
    "print(df_1.head())"
   ]
  },
  {
   "cell_type": "markdown",
   "id": "c6a44e67",
   "metadata": {},
   "source": [
    "### Seeing the Shape of the Dataset"
   ]
  },
  {
   "cell_type": "code",
   "execution_count": 7,
   "id": "e4bdfc8f",
   "metadata": {},
   "outputs": [
    {
     "name": "stdout",
     "output_type": "stream",
     "text": [
      "Shape of the Dataset is:\n",
      "\n",
      "(14, 3)\n"
     ]
    }
   ],
   "source": [
    "print(\"Shape of the Dataset is:\\n\")\n",
    "\n",
    "print(df_1.shape)"
   ]
  },
  {
   "cell_type": "markdown",
   "id": "80be8624",
   "metadata": {},
   "source": [
    "### Seeing the Columns of the Dataset"
   ]
  },
  {
   "cell_type": "code",
   "execution_count": 5,
   "id": "d1a02c05",
   "metadata": {},
   "outputs": [
    {
     "name": "stdout",
     "output_type": "stream",
     "text": [
      "Columns of the Dataset are:\n",
      "\n",
      "Index(['Name', 'Emails', 'Year'], dtype='object')\n"
     ]
    }
   ],
   "source": [
    "print(\"Columns of the Dataset are:\\n\")\n",
    "\n",
    "print(df_1.columns)"
   ]
  },
  {
   "cell_type": "markdown",
   "id": "f96d6bd6",
   "metadata": {},
   "source": [
    "### Seeing the Information of the Dataset"
   ]
  },
  {
   "cell_type": "code",
   "execution_count": 6,
   "id": "3ecc3796",
   "metadata": {
    "scrolled": true
   },
   "outputs": [
    {
     "name": "stdout",
     "output_type": "stream",
     "text": [
      "Information of the Dataset is:\n",
      "\n",
      "<class 'pandas.core.frame.DataFrame'>\n",
      "RangeIndex: 14 entries, 0 to 13\n",
      "Data columns (total 3 columns):\n",
      " #   Column  Non-Null Count  Dtype \n",
      "---  ------  --------------  ----- \n",
      " 0   Name    14 non-null     object\n",
      " 1   Emails  14 non-null     int64 \n",
      " 2   Year    14 non-null     int64 \n",
      "dtypes: int64(2), object(1)\n",
      "memory usage: 468.0+ bytes\n",
      "None\n"
     ]
    }
   ],
   "source": [
    "print(\"Information of the Dataset is:\\n\")\n",
    "\n",
    "print(df_1.info())"
   ]
  },
  {
   "cell_type": "markdown",
   "id": "1ddfb89f",
   "metadata": {},
   "source": [
    "## Dataset 2: Enron Datasets enron_org.csv"
   ]
  },
  {
   "cell_type": "markdown",
   "id": "8fe624dc",
   "metadata": {},
   "source": [
    "### Loading and Printing  Dataset"
   ]
  },
  {
   "cell_type": "code",
   "execution_count": 13,
   "id": "5b8f3423",
   "metadata": {},
   "outputs": [
    {
     "name": "stdout",
     "output_type": "stream",
     "text": [
      "Dataset is:\n",
      "\n",
      "                  Email_id    status\n",
      "0    marie.heard@enron.com       NaN\n",
      "1  mark.e.taylor@enron.com  Employee\n",
      "2   lindy.donoho@enron.com  Employee\n",
      "3      lisa.gang@enron.com       NaN\n",
      "4  jeff.skilling@enron.com       CEO\n"
     ]
    }
   ],
   "source": [
    "df_2 = pd.read_csv(r\"Dataset\\Extra Dataset\\Enron Datasets\\enron_org.csv\")\n",
    "\n",
    "print(\"Dataset is:\\n\")\n",
    "print(df_2.head())"
   ]
  },
  {
   "cell_type": "markdown",
   "id": "949dd207",
   "metadata": {},
   "source": [
    "### Seeing the Shape of the Dataset"
   ]
  },
  {
   "cell_type": "code",
   "execution_count": 9,
   "id": "25a6f546",
   "metadata": {},
   "outputs": [
    {
     "name": "stdout",
     "output_type": "stream",
     "text": [
      "Shape of the Dataset is:\n",
      "\n",
      "(149, 2)\n"
     ]
    }
   ],
   "source": [
    "print(\"Shape of the Dataset is:\\n\")\n",
    "\n",
    "print(df_2.shape)"
   ]
  },
  {
   "cell_type": "markdown",
   "id": "438f914b",
   "metadata": {},
   "source": [
    "### Seeing the Columns of the Dataset"
   ]
  },
  {
   "cell_type": "code",
   "execution_count": 10,
   "id": "704d0b89",
   "metadata": {},
   "outputs": [
    {
     "name": "stdout",
     "output_type": "stream",
     "text": [
      "Columns of the Dataset are:\n",
      "\n",
      "Index(['Email_id', 'status'], dtype='object')\n"
     ]
    }
   ],
   "source": [
    "print(\"Columns of the Dataset are:\\n\")\n",
    "\n",
    "print(df_2.columns)"
   ]
  },
  {
   "cell_type": "markdown",
   "id": "1980a249",
   "metadata": {},
   "source": [
    "### Seeing the Information of the Dataset"
   ]
  },
  {
   "cell_type": "code",
   "execution_count": 11,
   "id": "e406a0e0",
   "metadata": {},
   "outputs": [
    {
     "name": "stdout",
     "output_type": "stream",
     "text": [
      "Information of the Dataset is:\n",
      "\n",
      "<class 'pandas.core.frame.DataFrame'>\n",
      "RangeIndex: 149 entries, 0 to 148\n",
      "Data columns (total 2 columns):\n",
      " #   Column    Non-Null Count  Dtype \n",
      "---  ------    --------------  ----- \n",
      " 0   Email_id  149 non-null    object\n",
      " 1   status    117 non-null    object\n",
      "dtypes: object(2)\n",
      "memory usage: 2.5+ KB\n",
      "None\n"
     ]
    }
   ],
   "source": [
    "print(\"Information of the Dataset is:\\n\")\n",
    "\n",
    "print(df_2.info())"
   ]
  },
  {
   "cell_type": "markdown",
   "id": "f706206c",
   "metadata": {},
   "source": [
    "## Dataset 3: Enron Datasets enron_sentiments.csv"
   ]
  },
  {
   "cell_type": "markdown",
   "id": "80ffc068",
   "metadata": {},
   "source": [
    "### Loading and Printing  Dataset"
   ]
  },
  {
   "cell_type": "code",
   "execution_count": 19,
   "id": "714a6048",
   "metadata": {},
   "outputs": [
    {
     "name": "stdout",
     "output_type": "stream",
     "text": [
      "Dataset is:\n",
      "\n",
      "         date  close   high    low  Sentiments               Employee\n",
      "0  01/10/2001  29.15  29.45  27.05    1.527778  kenneth.lay@enron.com\n",
      "1  02/10/2001  30.61  30.77  28.70    1.546296  kenneth.lay@enron.com\n",
      "2  03/10/2001  33.49  34.44  31.20    2.291667  kenneth.lay@enron.com\n",
      "3  04/10/2001  33.10  34.74  32.75    1.388889  kenneth.lay@enron.com\n",
      "4  05/10/2001  31.73  34.49  31.58    1.562500  kenneth.lay@enron.com\n"
     ]
    }
   ],
   "source": [
    "df_3 = pd.read_csv(r\"Dataset\\Extra Dataset\\Enron Datasets\\enron_sentiments.csv\", sep='\\t')\n",
    "\n",
    "print(\"Dataset is:\\n\")\n",
    "\n",
    "print(df_3.head())"
   ]
  },
  {
   "cell_type": "markdown",
   "id": "6d35eb27",
   "metadata": {},
   "source": [
    "### Seeing the Shape of the Dataset"
   ]
  },
  {
   "cell_type": "code",
   "execution_count": 20,
   "id": "da92028b",
   "metadata": {},
   "outputs": [
    {
     "name": "stdout",
     "output_type": "stream",
     "text": [
      "Shape of the Dataset is:\n",
      "\n",
      "(6484, 6)\n"
     ]
    }
   ],
   "source": [
    "print(\"Shape of the Dataset is:\\n\")\n",
    "\n",
    "print(df_3.shape)"
   ]
  },
  {
   "cell_type": "markdown",
   "id": "9ce383ee",
   "metadata": {},
   "source": [
    "### Seeing the Columns of the Dataset"
   ]
  },
  {
   "cell_type": "code",
   "execution_count": 21,
   "id": "c3ed9226",
   "metadata": {},
   "outputs": [
    {
     "name": "stdout",
     "output_type": "stream",
     "text": [
      "Columns of the Dataset are:\n",
      "\n",
      "Index(['date', 'close', 'high', 'low', 'Sentiments', 'Employee'], dtype='object')\n"
     ]
    }
   ],
   "source": [
    "print(\"Columns of the Dataset are:\\n\")\n",
    "\n",
    "print(df_3.columns)"
   ]
  },
  {
   "cell_type": "markdown",
   "id": "0cde6819",
   "metadata": {},
   "source": [
    "### Seeing the Information of the Dataset"
   ]
  },
  {
   "cell_type": "code",
   "execution_count": 22,
   "id": "c77da562",
   "metadata": {},
   "outputs": [
    {
     "name": "stdout",
     "output_type": "stream",
     "text": [
      "Information of the Dataset is:\n",
      "\n",
      "<class 'pandas.core.frame.DataFrame'>\n",
      "RangeIndex: 6484 entries, 0 to 6483\n",
      "Data columns (total 6 columns):\n",
      " #   Column      Non-Null Count  Dtype  \n",
      "---  ------      --------------  -----  \n",
      " 0   date        479 non-null    object \n",
      " 1   close       384 non-null    float64\n",
      " 2   high        384 non-null    float64\n",
      " 3   low         384 non-null    float64\n",
      " 4   Sentiments  398 non-null    float64\n",
      " 5   Employee    479 non-null    object \n",
      "dtypes: float64(4), object(2)\n",
      "memory usage: 304.1+ KB\n",
      "None\n"
     ]
    }
   ],
   "source": [
    "print(\"Information of the Dataset is:\\n\")\n",
    "\n",
    "print(df_3.info())"
   ]
  },
  {
   "cell_type": "markdown",
   "id": "6de9884c",
   "metadata": {},
   "source": [
    "## Dataset 4: Enron Datasets enronClean.csv"
   ]
  },
  {
   "cell_type": "markdown",
   "id": "a1f9a5ec",
   "metadata": {},
   "source": [
    "### Loading and Printing  Dataset"
   ]
  },
  {
   "cell_type": "code",
   "execution_count": 24,
   "id": "d6741500",
   "metadata": {},
   "outputs": [
    {
     "name": "stdout",
     "output_type": "stream",
     "text": [
      "Dataset is:\n",
      "\n",
      "               TID               MID             SUBJECT  \\\n",
      "0  e94a22508dac953   e94a22508dac953   \"FW: LINE SM-123\"   \n",
      "1  e94a22508dac953   e94a22508dac953   \"FW: LINE SM-123\"   \n",
      "2  e94a22508dac953   e94a22508dac953   \"FW: LINE SM-123\"   \n",
      "3  e94a22508dac953   e94a22508dac953   \"FW: LINE SM-123\"   \n",
      "4  e94a22508dac953   e94a22508dac953   \"FW: LINE SM-123\"   \n",
      "\n",
      "                         FROM                   TIMESTAMP  \\\n",
      "0   victor.lamadrid@enron.com   2001-10-01T14:19:03-07:00   \n",
      "1   victor.lamadrid@enron.com   2001-10-01T14:19:03-07:00   \n",
      "2   victor.lamadrid@enron.com   2001-10-01T14:19:03-07:00   \n",
      "3   victor.lamadrid@enron.com   2001-10-01T14:19:03-07:00   \n",
      "4   victor.lamadrid@enron.com   2001-10-01T14:19:03-07:00   \n",
      "\n",
      "                          TO TYPE  \n",
      "0       john.hodge@enron.com   TO  \n",
      "1      john.singer@enron.com   TO  \n",
      "2       scott.neal@enron.com   TO  \n",
      "3  clarissa.garcia@enron.com   TO  \n",
      "4    chris.germany@enron.com   TO  \n"
     ]
    }
   ],
   "source": [
    "df_4 = pd.read_csv(r\"Dataset\\Extra Dataset\\Enron Datasets\\enronClean.csv\")\n",
    "\n",
    "print(\"Dataset is:\\n\")\n",
    "\n",
    "print(df_4.head())"
   ]
  },
  {
   "cell_type": "markdown",
   "id": "1de4cc50",
   "metadata": {},
   "source": [
    "### Seeing the Shape of the Dataset"
   ]
  },
  {
   "cell_type": "code",
   "execution_count": 25,
   "id": "097ce37b",
   "metadata": {},
   "outputs": [
    {
     "name": "stdout",
     "output_type": "stream",
     "text": [
      "Shape of the Dataset is:\n",
      "\n",
      "(526390, 7)\n"
     ]
    }
   ],
   "source": [
    "print(\"Shape of the Dataset is:\\n\")\n",
    "\n",
    "print(df_4.shape)"
   ]
  },
  {
   "cell_type": "markdown",
   "id": "60907bb4",
   "metadata": {},
   "source": [
    "### Seeing the Columns of the Dataset"
   ]
  },
  {
   "cell_type": "code",
   "execution_count": 26,
   "id": "229add0b",
   "metadata": {},
   "outputs": [
    {
     "name": "stdout",
     "output_type": "stream",
     "text": [
      "Columns of the Dataset are:\n",
      "\n",
      "Index(['TID', 'MID', 'SUBJECT', 'FROM', 'TIMESTAMP', 'TO', 'TYPE'], dtype='object')\n"
     ]
    }
   ],
   "source": [
    "print(\"Columns of the Dataset are:\\n\")\n",
    "\n",
    "print(df_4.columns)"
   ]
  },
  {
   "cell_type": "markdown",
   "id": "272a163e",
   "metadata": {},
   "source": [
    "### Seeing the Information of the Dataset"
   ]
  },
  {
   "cell_type": "code",
   "execution_count": 27,
   "id": "6a139ad6",
   "metadata": {},
   "outputs": [
    {
     "name": "stdout",
     "output_type": "stream",
     "text": [
      "Information of the Dataset is:\n",
      "\n",
      "<class 'pandas.core.frame.DataFrame'>\n",
      "RangeIndex: 526390 entries, 0 to 526389\n",
      "Data columns (total 7 columns):\n",
      " #   Column     Non-Null Count   Dtype \n",
      "---  ------     --------------   ----- \n",
      " 0   TID        526390 non-null  object\n",
      " 1   MID        526390 non-null  object\n",
      " 2   SUBJECT    526390 non-null  object\n",
      " 3   FROM       526390 non-null  object\n",
      " 4   TIMESTAMP  526390 non-null  object\n",
      " 5   TO         526388 non-null  object\n",
      " 6   TYPE       526390 non-null  object\n",
      "dtypes: object(7)\n",
      "memory usage: 28.1+ MB\n",
      "None\n"
     ]
    }
   ],
   "source": [
    "print(\"Information of the Dataset is:\\n\")\n",
    "\n",
    "print(df_4.info())"
   ]
  },
  {
   "cell_type": "markdown",
   "id": "2b3660d8",
   "metadata": {},
   "source": [
    "## Dataset 5: Enron Datasets EnronEmployeeInformation.csv"
   ]
  },
  {
   "cell_type": "markdown",
   "id": "03326ca7",
   "metadata": {},
   "source": [
    "### Loading and Printing  Dataset"
   ]
  },
  {
   "cell_type": "code",
   "execution_count": 35,
   "id": "c4ca09bc",
   "metadata": {},
   "outputs": [
    {
     "name": "stdout",
     "output_type": "stream",
     "text": [
      "Dataset is:\n",
      "\n",
      "   Unnamed: 0  ID           Name  EmailID    Folder         Department  \\\n",
      "0           1   1    John Arnold  jarnold  arnold-j  ENA Gas Financial   \n",
      "1           2   2    Harry Arora   harora   arora-h     ENA East Power   \n",
      "2           3   3  Robert Badeer  rbadeer  badeer-r     ENA West Power   \n",
      "3           4   4   Susan Bailey  sbaile2  bailey-s          ENA Legal   \n",
      "4           5   5      Eric Bass    ebass    bass-e      ENA Gas Texas   \n",
      "\n",
      "              Title  \n",
      "0        VP Trading  \n",
      "1        VP Trading  \n",
      "2       Mgr Trading  \n",
      "3  Specialist Legal  \n",
      "4            Trader  \n"
     ]
    }
   ],
   "source": [
    "df_5 = pd.read_csv(r\"Dataset\\Extra Dataset\\Enron Datasets\\EnronEmployeeInformation.csv\", index_col = None)\n",
    "\n",
    "print(\"Dataset is:\\n\")\n",
    "\n",
    "print(df_5.head())"
   ]
  },
  {
   "cell_type": "markdown",
   "id": "098a481d",
   "metadata": {},
   "source": [
    "### Seeing the Shape of the Dataset"
   ]
  },
  {
   "cell_type": "code",
   "execution_count": 34,
   "id": "153419a3",
   "metadata": {},
   "outputs": [
    {
     "name": "stdout",
     "output_type": "stream",
     "text": [
      "Shape of the Dataset is:\n",
      "\n",
      "(156, 7)\n"
     ]
    }
   ],
   "source": [
    "print(\"Shape of the Dataset is:\\n\")\n",
    "\n",
    "print(df_5.shape)"
   ]
  },
  {
   "cell_type": "markdown",
   "id": "596ed78a",
   "metadata": {},
   "source": [
    "### Seeing the Columns of the Dataset"
   ]
  },
  {
   "cell_type": "code",
   "execution_count": 30,
   "id": "de14e689",
   "metadata": {},
   "outputs": [
    {
     "name": "stdout",
     "output_type": "stream",
     "text": [
      "Columns of the Dataset are:\n",
      "\n",
      "Index(['Unnamed: 0', 'ID', 'Name', 'EmailID', 'Folder', 'Department', 'Title'], dtype='object')\n"
     ]
    }
   ],
   "source": [
    "print(\"Columns of the Dataset are:\\n\")\n",
    "\n",
    "print(df_5.columns)"
   ]
  },
  {
   "cell_type": "markdown",
   "id": "e4fae695",
   "metadata": {},
   "source": [
    "### Seeing the Information of the Dataset"
   ]
  },
  {
   "cell_type": "code",
   "execution_count": 36,
   "id": "baaa146f",
   "metadata": {},
   "outputs": [
    {
     "name": "stdout",
     "output_type": "stream",
     "text": [
      "Information of the Dataset is:\n",
      "\n",
      "<class 'pandas.core.frame.DataFrame'>\n",
      "RangeIndex: 156 entries, 0 to 155\n",
      "Data columns (total 7 columns):\n",
      " #   Column      Non-Null Count  Dtype \n",
      "---  ------      --------------  ----- \n",
      " 0   Unnamed: 0  156 non-null    int64 \n",
      " 1   ID          156 non-null    int64 \n",
      " 2   Name        156 non-null    object\n",
      " 3   EmailID     155 non-null    object\n",
      " 4   Folder      156 non-null    object\n",
      " 5   Department  153 non-null    object\n",
      " 6   Title       156 non-null    object\n",
      "dtypes: int64(2), object(5)\n",
      "memory usage: 8.7+ KB\n",
      "None\n"
     ]
    }
   ],
   "source": [
    "print(\"Information of the Dataset is:\\n\")\n",
    "\n",
    "print(df_5.info())"
   ]
  },
  {
   "cell_type": "markdown",
   "id": "f2e69a45",
   "metadata": {},
   "source": [
    "## Dataset 6: Enron Datasets enronThread2001.csv"
   ]
  },
  {
   "cell_type": "markdown",
   "id": "361a3de4",
   "metadata": {},
   "source": [
    "### Loading and Printing  Dataset"
   ]
  },
  {
   "cell_type": "code",
   "execution_count": 37,
   "id": "8263aa02",
   "metadata": {},
   "outputs": [
    {
     "name": "stdout",
     "output_type": "stream",
     "text": [
      "Dataset is:\n",
      "\n",
      "               TID               MID             SUBJECT  \\\n",
      "0  e94a22508dac953   e94a22508dac953   \"FW: LINE SM-123\"   \n",
      "1  e94a22508dac953   e94a22508dac953   \"FW: LINE SM-123\"   \n",
      "2  e94a22508dac953   e94a22508dac953   \"FW: LINE SM-123\"   \n",
      "3  e94a22508dac953   e94a22508dac953   \"FW: LINE SM-123\"   \n",
      "4  e94a22508dac953   e94a22508dac953   \"FW: LINE SM-123\"   \n",
      "\n",
      "                         FROM                   TIMESTAMP  \\\n",
      "0   victor.lamadrid@enron.com   2001-10-01T14:19:03-07:00   \n",
      "1   victor.lamadrid@enron.com   2001-10-01T14:19:03-07:00   \n",
      "2   victor.lamadrid@enron.com   2001-10-01T14:19:03-07:00   \n",
      "3   victor.lamadrid@enron.com   2001-10-01T14:19:03-07:00   \n",
      "4   victor.lamadrid@enron.com   2001-10-01T14:19:03-07:00   \n",
      "\n",
      "                          TO TYPE  \n",
      "0       john.hodge@enron.com   TO  \n",
      "1      john.singer@enron.com   TO  \n",
      "2       scott.neal@enron.com   TO  \n",
      "3  clarissa.garcia@enron.com   TO  \n",
      "4    chris.germany@enron.com   TO  \n"
     ]
    }
   ],
   "source": [
    "df_6 = pd.read_csv(r\"Dataset\\Extra Dataset\\Enron Datasets\\enronThread2001.csv\")\n",
    "\n",
    "print(\"Dataset is:\\n\")\n",
    "\n",
    "print(df_6.head())"
   ]
  },
  {
   "cell_type": "markdown",
   "id": "1e137cd3",
   "metadata": {},
   "source": [
    "### Seeing the Shape of the Dataset"
   ]
  },
  {
   "cell_type": "code",
   "execution_count": 38,
   "id": "83a772d0",
   "metadata": {},
   "outputs": [
    {
     "name": "stdout",
     "output_type": "stream",
     "text": [
      "Shape of the Dataset is:\n",
      "\n",
      "(526390, 7)\n"
     ]
    }
   ],
   "source": [
    "print(\"Shape of the Dataset is:\\n\")\n",
    "\n",
    "print(df_6.shape)"
   ]
  },
  {
   "cell_type": "markdown",
   "id": "8ece4cc1",
   "metadata": {},
   "source": [
    "### Seeing the Columns of the Dataset"
   ]
  },
  {
   "cell_type": "code",
   "execution_count": 39,
   "id": "bf8e0f0b",
   "metadata": {},
   "outputs": [
    {
     "name": "stdout",
     "output_type": "stream",
     "text": [
      "Columns of the Dataset are:\n",
      "\n",
      "Index(['TID', 'MID', 'SUBJECT', 'FROM', 'TIMESTAMP', 'TO', 'TYPE'], dtype='object')\n"
     ]
    }
   ],
   "source": [
    "print(\"Columns of the Dataset are:\\n\")\n",
    "\n",
    "print(df_6.columns)"
   ]
  },
  {
   "cell_type": "markdown",
   "id": "6c8123f6",
   "metadata": {},
   "source": [
    "### Seeing the Information of the Dataset"
   ]
  },
  {
   "cell_type": "code",
   "execution_count": 40,
   "id": "9fecab4f",
   "metadata": {},
   "outputs": [
    {
     "name": "stdout",
     "output_type": "stream",
     "text": [
      "Information of the Dataset is:\n",
      "\n",
      "<class 'pandas.core.frame.DataFrame'>\n",
      "RangeIndex: 526390 entries, 0 to 526389\n",
      "Data columns (total 7 columns):\n",
      " #   Column     Non-Null Count   Dtype \n",
      "---  ------     --------------   ----- \n",
      " 0   TID        526390 non-null  object\n",
      " 1   MID        526390 non-null  object\n",
      " 2   SUBJECT    526390 non-null  object\n",
      " 3   FROM       526390 non-null  object\n",
      " 4   TIMESTAMP  526390 non-null  object\n",
      " 5   TO         526388 non-null  object\n",
      " 6   TYPE       526390 non-null  object\n",
      "dtypes: object(7)\n",
      "memory usage: 28.1+ MB\n",
      "None\n"
     ]
    }
   ],
   "source": [
    "print(\"Information of the Dataset is:\\n\")\n",
    "\n",
    "print(df_6.info())"
   ]
  },
  {
   "cell_type": "markdown",
   "id": "9e3878b8",
   "metadata": {},
   "source": [
    "## Dataset 7: Enron Datasets FinalAdjacencyMatrix.csv"
   ]
  },
  {
   "cell_type": "markdown",
   "id": "331f5404",
   "metadata": {},
   "source": [
    "### Loading and Printing  Dataset"
   ]
  },
  {
   "cell_type": "code",
   "execution_count": 41,
   "id": "387f26c2",
   "metadata": {
    "scrolled": true
   },
   "outputs": [
    {
     "name": "stdout",
     "output_type": "stream",
     "text": [
      "Dataset is:\n",
      "\n",
      "               name  Phillip K. Allen  John Arnold  Harry Arora  \\\n",
      "0  Phillip K. Allen               0.0          0.0            0   \n",
      "1       John Arnold               1.0         42.0            0   \n",
      "2       Harry Arora               0.0          0.0            2   \n",
      "3     Robert Badeer               0.0          0.0            0   \n",
      "4      Susan Bailey               0.0          0.0            0   \n",
      "\n",
      "   Robert Badeer  Susan Bailey  Eric Bass  Don Baughman Jr.  Sally Beck  \\\n",
      "0            0.0           0.0        0.0                 0         0.0   \n",
      "1            0.0           0.0        0.0                 0         0.0   \n",
      "2            0.0           0.0        0.0                 0         0.0   \n",
      "3            0.0           0.0        0.0                 0         0.0   \n",
      "4            0.0           0.0        0.0                 0         0.0   \n",
      "\n",
      "   Robert Benson  ...  V Charles Weldon  Greg Whalley  Stacey W. White  \\\n",
      "0              0  ...               0.0           3.0              0.0   \n",
      "1              0  ...               0.0          47.0              0.0   \n",
      "2              0  ...               0.0           0.0              4.0   \n",
      "3              0  ...               0.0           0.0              0.0   \n",
      "4              0  ...               0.0           0.0              0.0   \n",
      "\n",
      "   Mark Whitt  Jason Williams  Bill Williams III  Jason Wolfe  Paul Y'Barbo  \\\n",
      "0         0.0        0.000000                  0            0           0.0   \n",
      "1         0.0        0.000000                  0            0           0.0   \n",
      "2         0.0        0.000000                  0            0           0.0   \n",
      "3         0.0        0.000000                  0            0           0.0   \n",
      "4         0.0       40.154701                  0            0           0.0   \n",
      "\n",
      "   Andy Zipper  John Zufferli  \n",
      "0          0.0            0.0  \n",
      "1        106.0            0.0  \n",
      "2          2.0            0.0  \n",
      "3          0.0            0.0  \n",
      "4          0.0            0.0  \n",
      "\n",
      "[5 rows x 157 columns]\n"
     ]
    }
   ],
   "source": [
    "df_7 = pd.read_csv(r\"Dataset\\Extra Dataset\\Enron Datasets\\FinalAdjacencyMatrix.csv\")\n",
    "\n",
    "print(\"Dataset is:\\n\")\n",
    "\n",
    "print(df_7.head())"
   ]
  },
  {
   "cell_type": "markdown",
   "id": "660ecdf9",
   "metadata": {},
   "source": [
    "### Seeing the Shape of the Dataset"
   ]
  },
  {
   "cell_type": "code",
   "execution_count": 44,
   "id": "5fed89c9",
   "metadata": {},
   "outputs": [
    {
     "name": "stdout",
     "output_type": "stream",
     "text": [
      "Shape of the Dataset is:\n",
      "\n",
      "(156, 157)\n"
     ]
    }
   ],
   "source": [
    "print(\"Shape of the Dataset is:\\n\")\n",
    "\n",
    "print(df_7.shape)"
   ]
  },
  {
   "cell_type": "markdown",
   "id": "57ab6c57",
   "metadata": {},
   "source": [
    "### Seeing the Columns of the Dataset"
   ]
  },
  {
   "cell_type": "code",
   "execution_count": 43,
   "id": "0db83a61",
   "metadata": {},
   "outputs": [
    {
     "name": "stdout",
     "output_type": "stream",
     "text": [
      "Columns of the Dataset are:\n",
      "\n",
      "Index(['name', 'Phillip K. Allen', 'John Arnold', 'Harry Arora',\n",
      "       'Robert Badeer', 'Susan Bailey', 'Eric Bass', 'Don Baughman Jr.',\n",
      "       'Sally Beck', 'Robert Benson',\n",
      "       ...\n",
      "       'V Charles Weldon', 'Greg Whalley', 'Stacey W. White', 'Mark Whitt',\n",
      "       'Jason Williams', 'Bill Williams III', 'Jason Wolfe', 'Paul Y'Barbo',\n",
      "       'Andy Zipper', 'John Zufferli'],\n",
      "      dtype='object', length=157)\n"
     ]
    }
   ],
   "source": [
    "print(\"Columns of the Dataset are:\\n\")\n",
    "\n",
    "print(df_7.columns)"
   ]
  },
  {
   "cell_type": "markdown",
   "id": "c56eba7d",
   "metadata": {},
   "source": [
    "### Seeing the Information of the Dataset"
   ]
  },
  {
   "cell_type": "code",
   "execution_count": 42,
   "id": "6d00642b",
   "metadata": {},
   "outputs": [
    {
     "name": "stdout",
     "output_type": "stream",
     "text": [
      "Information of the Dataset is:\n",
      "\n",
      "<class 'pandas.core.frame.DataFrame'>\n",
      "RangeIndex: 156 entries, 0 to 155\n",
      "Columns: 157 entries, name to John Zufferli\n",
      "dtypes: float64(125), int64(31), object(1)\n",
      "memory usage: 191.5+ KB\n",
      "None\n"
     ]
    }
   ],
   "source": [
    "print(\"Information of the Dataset is:\\n\")\n",
    "\n",
    "print(df_7.info())"
   ]
  },
  {
   "cell_type": "markdown",
   "id": "93601951",
   "metadata": {},
   "source": [
    "## Dataset 8: Enron Datasets Sentiments_employees.csv"
   ]
  },
  {
   "cell_type": "markdown",
   "id": "77a4d78b",
   "metadata": {},
   "source": [
    "### Loading and Printing  Dataset"
   ]
  },
  {
   "cell_type": "code",
   "execution_count": 50,
   "id": "5bfc723b",
   "metadata": {
    "scrolled": true
   },
   "outputs": [
    {
     "name": "stdout",
     "output_type": "stream",
     "text": [
      "Raw Dataset:\n",
      "\n",
      "        date\\tclose\\thigh\\tlow\\tSentiments\\tEmployee\n",
      "0  04/01/1999\\t59.25\\t59.5\\t57.5\\t\\tkenneth.lay@e...\n",
      "1  05/01/1999\\t59\\t60.13\\t58.88\\t\\tkenneth.lay@en...\n",
      "2  06/01/1999\\t59.44\\t59.75\\t58.44\\t\\tkenneth.lay...\n",
      "3  07/01/1999\\t62\\t62.88\\t58.63\\t\\tkenneth.lay@en...\n",
      "4  08/01/1999\\t65.13\\t65.38\\t62.25\\t\\tkenneth.lay...\n",
      "\n",
      "Cleaned Dataset:\n",
      "\n",
      "            0      1      2      3 4                      5\n",
      "0  04/01/1999  59.25   59.5   57.5    kenneth.lay@enron.com\n",
      "1  05/01/1999     59  60.13  58.88    kenneth.lay@enron.com\n",
      "2  06/01/1999  59.44  59.75  58.44    kenneth.lay@enron.com\n",
      "3  07/01/1999     62  62.88  58.63    kenneth.lay@enron.com\n",
      "4  08/01/1999  65.13  65.38  62.25    kenneth.lay@enron.com\n"
     ]
    }
   ],
   "source": [
    "# Step 1: Load the CSV without specifying a separator\n",
    "df_8 = pd.read_csv(r\"Dataset\\Extra Dataset\\Enron Datasets\\Sentiments_employees.csv\", delimiter=None, engine='python')\n",
    "\n",
    "# Step 2: Print the dataset and check how it's loaded\n",
    "print(\"Raw Dataset:\\n\")\n",
    "print(df_8.head())\n",
    "\n",
    "# Step 3: Split the columns if they are not split correctly (optional step based on the output)\n",
    "df_8 = df_8['date\\tclose\\thigh\\tlow\\tSentiments\\tEmployee'].str.split('\\t', expand=True)\n",
    "\n",
    "# Step 4: Print the cleaned dataset\n",
    "print(\"\\nCleaned Dataset:\\n\")\n",
    "\n",
    "print(df_8.head())"
   ]
  },
  {
   "cell_type": "markdown",
   "id": "d74c4a52",
   "metadata": {},
   "source": [
    "### Seeing the Shape of the Dataset"
   ]
  },
  {
   "cell_type": "code",
   "execution_count": 51,
   "id": "b8779e29",
   "metadata": {},
   "outputs": [
    {
     "name": "stdout",
     "output_type": "stream",
     "text": [
      "Shape of the Dataset is:\n",
      "\n",
      "(6483, 6)\n"
     ]
    }
   ],
   "source": [
    "print(\"Shape of the Dataset is:\\n\")\n",
    "\n",
    "print(df_8.shape)"
   ]
  },
  {
   "cell_type": "markdown",
   "id": "f5006ae6",
   "metadata": {},
   "source": [
    "### Seeing the Columns of the Dataset"
   ]
  },
  {
   "cell_type": "code",
   "execution_count": 52,
   "id": "0a8771d3",
   "metadata": {},
   "outputs": [
    {
     "name": "stdout",
     "output_type": "stream",
     "text": [
      "Columns of the Dataset are:\n",
      "\n",
      "RangeIndex(start=0, stop=6, step=1)\n"
     ]
    }
   ],
   "source": [
    "print(\"Columns of the Dataset are:\\n\")\n",
    "\n",
    "print(df_8.columns)"
   ]
  },
  {
   "cell_type": "markdown",
   "id": "b1f68574",
   "metadata": {},
   "source": [
    "### Seeing the Information of the Dataset"
   ]
  },
  {
   "cell_type": "code",
   "execution_count": 53,
   "id": "307c3c8a",
   "metadata": {},
   "outputs": [
    {
     "name": "stdout",
     "output_type": "stream",
     "text": [
      "Information of the Dataset is:\n",
      "\n",
      "<class 'pandas.core.frame.DataFrame'>\n",
      "RangeIndex: 6483 entries, 0 to 6482\n",
      "Data columns (total 6 columns):\n",
      " #   Column  Non-Null Count  Dtype \n",
      "---  ------  --------------  ----- \n",
      " 0   0       6483 non-null   object\n",
      " 1   1       6483 non-null   object\n",
      " 2   2       6483 non-null   object\n",
      " 3   3       6483 non-null   object\n",
      " 4   4       6483 non-null   object\n",
      " 5   5       6483 non-null   object\n",
      "dtypes: object(6)\n",
      "memory usage: 304.0+ KB\n",
      "None\n"
     ]
    }
   ],
   "source": [
    "print(\"Information of the Dataset is:\\n\")\n",
    "\n",
    "print(df_8.info())"
   ]
  },
  {
   "cell_type": "markdown",
   "id": "21672ed5",
   "metadata": {},
   "source": [
    "## Dataset 9: Enron Datasets temp2001.csv"
   ]
  },
  {
   "cell_type": "markdown",
   "id": "1261aa81",
   "metadata": {},
   "source": [
    "### Loading and Printing  Dataset"
   ]
  },
  {
   "cell_type": "code",
   "execution_count": 54,
   "id": "2f0069cc",
   "metadata": {
    "scrolled": true
   },
   "outputs": [
    {
     "name": "stdout",
     "output_type": "stream",
     "text": [
      "Dataset is:\n",
      "\n",
      "    emailDate  totalEmails  deviatedValue\n",
      "0  2001-01-01           46          -3.78\n",
      "1  2001-01-02          369           0.49\n",
      "2  2001-01-03          391           0.15\n",
      "3  2001-01-04          341           3.30\n",
      "4  2001-01-05          340           2.92\n"
     ]
    }
   ],
   "source": [
    "df_9 = pd.read_csv(r\"Dataset\\Extra Dataset\\Enron Datasets\\temp2001.csv\")\n",
    "\n",
    "print(\"Dataset is:\\n\")\n",
    "\n",
    "print(df_9.head())"
   ]
  },
  {
   "cell_type": "markdown",
   "id": "e7dfb1cb",
   "metadata": {},
   "source": [
    "### Seeing the Shape of the Dataset"
   ]
  },
  {
   "cell_type": "code",
   "execution_count": 55,
   "id": "1202d16b",
   "metadata": {},
   "outputs": [
    {
     "name": "stdout",
     "output_type": "stream",
     "text": [
      "Shape of the Dataset is:\n",
      "\n",
      "(365, 3)\n"
     ]
    }
   ],
   "source": [
    "print(\"Shape of the Dataset is:\\n\")\n",
    "\n",
    "print(df_9.shape)"
   ]
  },
  {
   "cell_type": "markdown",
   "id": "aa890caf",
   "metadata": {},
   "source": [
    "### Seeing the Columns of the Dataset"
   ]
  },
  {
   "cell_type": "code",
   "execution_count": 56,
   "id": "db1876f5",
   "metadata": {},
   "outputs": [
    {
     "name": "stdout",
     "output_type": "stream",
     "text": [
      "Columns of the Dataset are:\n",
      "\n",
      "Index(['emailDate', 'totalEmails', 'deviatedValue'], dtype='object')\n"
     ]
    }
   ],
   "source": [
    "print(\"Columns of the Dataset are:\\n\")\n",
    "\n",
    "print(df_9.columns)"
   ]
  },
  {
   "cell_type": "markdown",
   "id": "66a9ed39",
   "metadata": {},
   "source": [
    "### Seeing the Information of the Dataset"
   ]
  },
  {
   "cell_type": "code",
   "execution_count": 57,
   "id": "2efdb830",
   "metadata": {},
   "outputs": [
    {
     "name": "stdout",
     "output_type": "stream",
     "text": [
      "Information of the Dataset is:\n",
      "\n",
      "<class 'pandas.core.frame.DataFrame'>\n",
      "RangeIndex: 365 entries, 0 to 364\n",
      "Data columns (total 3 columns):\n",
      " #   Column         Non-Null Count  Dtype  \n",
      "---  ------         --------------  -----  \n",
      " 0   emailDate      365 non-null    object \n",
      " 1   totalEmails    365 non-null    int64  \n",
      " 2   deviatedValue  365 non-null    float64\n",
      "dtypes: float64(1), int64(1), object(1)\n",
      "memory usage: 8.7+ KB\n",
      "None\n"
     ]
    }
   ],
   "source": [
    "print(\"Information of the Dataset is:\\n\")\n",
    "\n",
    "print(df_9.info())"
   ]
  },
  {
   "cell_type": "markdown",
   "id": "2f607c86",
   "metadata": {},
   "source": [
    "## Hillary Clinton Datasets\n",
    "\n",
    "## Dataset 10: Hillary Clinton Datasets Aliases.csv"
   ]
  },
  {
   "cell_type": "markdown",
   "id": "ef323172",
   "metadata": {},
   "source": [
    "### Loading and Printing  Dataset"
   ]
  },
  {
   "cell_type": "code",
   "execution_count": 58,
   "id": "11d60c06",
   "metadata": {},
   "outputs": [
    {
     "name": "stdout",
     "output_type": "stream",
     "text": [
      "Dataset is:\n",
      "\n",
      "   Id                         Alias  PersonId\n",
      "0   1                111th congress         1\n",
      "1   2  agna usemb kabul afghanistan         2\n",
      "2   3                            ap         3\n",
      "3   4                      asuncion         4\n",
      "4   5                          alec         5\n"
     ]
    }
   ],
   "source": [
    "df_10 = pd.read_csv(r\"Dataset\\Extra Dataset\\Hillary Clinton Datasets\\Aliases.csv\")\n",
    "\n",
    "print(\"Dataset is:\\n\")\n",
    "print(df_10.head())"
   ]
  },
  {
   "cell_type": "markdown",
   "id": "6f2a6e31",
   "metadata": {},
   "source": [
    "### Seeing the Shape of the Dataset"
   ]
  },
  {
   "cell_type": "code",
   "execution_count": 59,
   "id": "5a67e646",
   "metadata": {},
   "outputs": [
    {
     "name": "stdout",
     "output_type": "stream",
     "text": [
      "Shape of the Dataset is:\n",
      "\n",
      "(850, 3)\n"
     ]
    }
   ],
   "source": [
    "print(\"Shape of the Dataset is:\\n\")\n",
    "\n",
    "print(df_10.shape)"
   ]
  },
  {
   "cell_type": "markdown",
   "id": "f37c1687",
   "metadata": {},
   "source": [
    "### Seeing the Columns of the Dataset"
   ]
  },
  {
   "cell_type": "code",
   "execution_count": 60,
   "id": "16c3f451",
   "metadata": {},
   "outputs": [
    {
     "name": "stdout",
     "output_type": "stream",
     "text": [
      "Columns of the Dataset are:\n",
      "\n",
      "Index(['Id', 'Alias', 'PersonId'], dtype='object')\n"
     ]
    }
   ],
   "source": [
    "print(\"Columns of the Dataset are:\\n\")\n",
    "\n",
    "print(df_10.columns)"
   ]
  },
  {
   "cell_type": "markdown",
   "id": "c3918d29",
   "metadata": {},
   "source": [
    "### Seeing the Information of the Dataset"
   ]
  },
  {
   "cell_type": "code",
   "execution_count": 61,
   "id": "0d882fec",
   "metadata": {
    "scrolled": true
   },
   "outputs": [
    {
     "name": "stdout",
     "output_type": "stream",
     "text": [
      "Information of the Dataset is:\n",
      "\n",
      "<class 'pandas.core.frame.DataFrame'>\n",
      "RangeIndex: 850 entries, 0 to 849\n",
      "Data columns (total 3 columns):\n",
      " #   Column    Non-Null Count  Dtype \n",
      "---  ------    --------------  ----- \n",
      " 0   Id        850 non-null    int64 \n",
      " 1   Alias     850 non-null    object\n",
      " 2   PersonId  850 non-null    int64 \n",
      "dtypes: int64(2), object(1)\n",
      "memory usage: 20.1+ KB\n",
      "None\n"
     ]
    }
   ],
   "source": [
    "print(\"Information of the Dataset is:\\n\")\n",
    "\n",
    "print(df_10.info())"
   ]
  },
  {
   "cell_type": "markdown",
   "id": "e068b5c6",
   "metadata": {},
   "source": [
    "## Dataset 11: Hillary Clinton Datasets EmailReceivers.csv"
   ]
  },
  {
   "cell_type": "markdown",
   "id": "c4d8d65a",
   "metadata": {},
   "source": [
    "### Loading and Printing  Dataset"
   ]
  },
  {
   "cell_type": "code",
   "execution_count": 62,
   "id": "d48765fc",
   "metadata": {},
   "outputs": [
    {
     "name": "stdout",
     "output_type": "stream",
     "text": [
      "Dataset is:\n",
      "\n",
      "   Id  EmailId  PersonId\n",
      "0   1        1        80\n",
      "1   2        2        80\n",
      "2   3        3       228\n",
      "3   4        3        80\n",
      "4   5        4        80\n"
     ]
    }
   ],
   "source": [
    "df_11 = pd.read_csv(r\"Dataset\\Extra Dataset\\Hillary Clinton Datasets\\EmailReceivers.csv\")\n",
    "\n",
    "print(\"Dataset is:\\n\")\n",
    "print(df_11.head())"
   ]
  },
  {
   "cell_type": "markdown",
   "id": "b65b68b3",
   "metadata": {},
   "source": [
    "### Seeing the Shape of the Dataset"
   ]
  },
  {
   "cell_type": "code",
   "execution_count": 63,
   "id": "50ed7719",
   "metadata": {},
   "outputs": [
    {
     "name": "stdout",
     "output_type": "stream",
     "text": [
      "Shape of the Dataset is:\n",
      "\n",
      "(9306, 3)\n"
     ]
    }
   ],
   "source": [
    "print(\"Shape of the Dataset is:\\n\")\n",
    "\n",
    "print(df_11.shape)"
   ]
  },
  {
   "cell_type": "markdown",
   "id": "457a57d0",
   "metadata": {},
   "source": [
    "### Seeing the Columns of the Dataset"
   ]
  },
  {
   "cell_type": "code",
   "execution_count": 64,
   "id": "ba7754af",
   "metadata": {},
   "outputs": [
    {
     "name": "stdout",
     "output_type": "stream",
     "text": [
      "Columns of the Dataset are:\n",
      "\n",
      "Index(['Id', 'EmailId', 'PersonId'], dtype='object')\n"
     ]
    }
   ],
   "source": [
    "print(\"Columns of the Dataset are:\\n\")\n",
    "\n",
    "print(df_11.columns)"
   ]
  },
  {
   "cell_type": "markdown",
   "id": "2cb85f08",
   "metadata": {},
   "source": [
    "### Seeing the Information of the Dataset"
   ]
  },
  {
   "cell_type": "code",
   "execution_count": 65,
   "id": "76bcb2e3",
   "metadata": {
    "scrolled": true
   },
   "outputs": [
    {
     "name": "stdout",
     "output_type": "stream",
     "text": [
      "Information of the Dataset is:\n",
      "\n",
      "<class 'pandas.core.frame.DataFrame'>\n",
      "RangeIndex: 9306 entries, 0 to 9305\n",
      "Data columns (total 3 columns):\n",
      " #   Column    Non-Null Count  Dtype\n",
      "---  ------    --------------  -----\n",
      " 0   Id        9306 non-null   int64\n",
      " 1   EmailId   9306 non-null   int64\n",
      " 2   PersonId  9306 non-null   int64\n",
      "dtypes: int64(3)\n",
      "memory usage: 218.2 KB\n",
      "None\n"
     ]
    }
   ],
   "source": [
    "print(\"Information of the Dataset is:\\n\")\n",
    "\n",
    "print(df_11.info())"
   ]
  },
  {
   "cell_type": "markdown",
   "id": "87ade063",
   "metadata": {},
   "source": [
    "## Dataset 12: Hillary Clinton Datasets Emails.csv"
   ]
  },
  {
   "cell_type": "markdown",
   "id": "2db78091",
   "metadata": {},
   "source": [
    "### Loading and Printing  Dataset"
   ]
  },
  {
   "cell_type": "code",
   "execution_count": 66,
   "id": "2fd78b73",
   "metadata": {
    "scrolled": true
   },
   "outputs": [
    {
     "name": "stdout",
     "output_type": "stream",
     "text": [
      "Dataset is:\n",
      "\n",
      "   Id  DocNumber                                    MetadataSubject  \\\n",
      "0   1  C05739545                                                WOW   \n",
      "1   2  C05739546  H: LATEST: HOW SYRIA IS AIDING QADDAFI AND MOR...   \n",
      "2   3  C05739547                                      CHRIS STEVENS   \n",
      "3   4  C05739550                         CAIRO CONDEMNATION - FINAL   \n",
      "4   5  C05739554  H: LATEST: HOW SYRIA IS AIDING QADDAFI AND MOR...   \n",
      "\n",
      "     MetadataTo       MetadataFrom  SenderPersonId           MetadataDateSent  \\\n",
      "0             H  Sullivan, Jacob J            87.0  2012-09-12T04:00:00+00:00   \n",
      "1             H                NaN             NaN  2011-03-03T05:00:00+00:00   \n",
      "2            ;H    Mills, Cheryl D            32.0  2012-09-12T04:00:00+00:00   \n",
      "3             H    Mills, Cheryl D            32.0  2012-09-12T04:00:00+00:00   \n",
      "4  Abedin, Huma                  H            80.0  2011-03-11T05:00:00+00:00   \n",
      "\n",
      "        MetadataDateReleased  \\\n",
      "0  2015-05-22T04:00:00+00:00   \n",
      "1  2015-05-22T04:00:00+00:00   \n",
      "2  2015-05-22T04:00:00+00:00   \n",
      "3  2015-05-22T04:00:00+00:00   \n",
      "4  2015-05-22T04:00:00+00:00   \n",
      "\n",
      "                                     MetadataPdfLink MetadataCaseNumber  ...  \\\n",
      "0  DOCUMENTS/HRC_Email_1_296/HRCH2/DOC_0C05739545...       F-2015-04841  ...   \n",
      "1  DOCUMENTS/HRC_Email_1_296/HRCH1/DOC_0C05739546...       F-2015-04841  ...   \n",
      "2  DOCUMENTS/HRC_Email_1_296/HRCH2/DOC_0C05739547...       F-2015-04841  ...   \n",
      "3  DOCUMENTS/HRC_Email_1_296/HRCH2/DOC_0C05739550...       F-2015-04841  ...   \n",
      "4  DOCUMENTS/HRC_Email_1_296/HRCH1/DOC_0C05739554...       F-2015-04841  ...   \n",
      "\n",
      "  ExtractedTo                             ExtractedFrom         ExtractedCc  \\\n",
      "0         NaN  Sullivan, Jacob J <Sullivan11@state.gov>                 NaN   \n",
      "1         NaN                                       NaN                 NaN   \n",
      "2          B6       Mills, Cheryl D <MillsCD@state.gov>        Abedin, Huma   \n",
      "3         NaN       Mills, Cheryl D <MillsCD@state.gov>  Mitchell, Andrew B   \n",
      "4         NaN                                       NaN                 NaN   \n",
      "\n",
      "                        ExtractedDateSent ExtractedCaseNumber  \\\n",
      "0  Wednesday, September 12, 2012 10:16 AM        F-2015-04841   \n",
      "1                                     NaN        F-2015-04841   \n",
      "2  Wednesday, September 12, 2012 11:52 AM        F-2015-04841   \n",
      "3   Wednesday, September 12,2012 12:44 PM        F-2015-04841   \n",
      "4                                     NaN        F-2015-04841   \n",
      "\n",
      "  ExtractedDocNumber ExtractedDateReleased ExtractedReleaseInPartOrFull  \\\n",
      "0          C05739545            05/13/2015              RELEASE IN FULL   \n",
      "1          C05739546            05/13/2015              RELEASE IN PART   \n",
      "2          C05739547            05/14/2015              RELEASE IN PART   \n",
      "3          C05739550            05/13/2015              RELEASE IN PART   \n",
      "4          C05739554            05/13/2015              RELEASE IN PART   \n",
      "\n",
      "                                   ExtractedBodyText  \\\n",
      "0                                                NaN   \n",
      "1  B6\\nThursday, March 3, 2011 9:45 PM\\nH: Latest...   \n",
      "2                                                Thx   \n",
      "3                                                NaN   \n",
      "4  H <hrod17@clintonemail.com>\\nFriday, March 11,...   \n",
      "\n",
      "                                             RawText  \n",
      "0  UNCLASSIFIED\\nU.S. Department of State\\nCase N...  \n",
      "1  UNCLASSIFIED\\nU.S. Department of State\\nCase N...  \n",
      "2  UNCLASSIFIED\\nU.S. Department of State\\nCase N...  \n",
      "3  UNCLASSIFIED\\nU.S. Department of State\\nCase N...  \n",
      "4  B6\\nUNCLASSIFIED\\nU.S. Department of State\\nCa...  \n",
      "\n",
      "[5 rows x 22 columns]\n"
     ]
    }
   ],
   "source": [
    "df_12 = pd.read_csv(r\"Dataset\\Extra Dataset\\Hillary Clinton Datasets\\Emails.csv\")\n",
    "\n",
    "print(\"Dataset is:\\n\")\n",
    "print(df_12.head())"
   ]
  },
  {
   "cell_type": "markdown",
   "id": "d6dee466",
   "metadata": {},
   "source": [
    "### Seeing the Shape of the Dataset"
   ]
  },
  {
   "cell_type": "code",
   "execution_count": 69,
   "id": "c7ca2abd",
   "metadata": {},
   "outputs": [
    {
     "name": "stdout",
     "output_type": "stream",
     "text": [
      "Shape of the Dataset is:\n",
      "\n",
      "(7945, 22)\n"
     ]
    }
   ],
   "source": [
    "print(\"Shape of the Dataset is:\\n\")\n",
    "\n",
    "print(df_12.shape)"
   ]
  },
  {
   "cell_type": "markdown",
   "id": "43efafee",
   "metadata": {},
   "source": [
    "### Seeing the Columns of the Dataset"
   ]
  },
  {
   "cell_type": "code",
   "execution_count": 68,
   "id": "139ca87b",
   "metadata": {},
   "outputs": [
    {
     "name": "stdout",
     "output_type": "stream",
     "text": [
      "Columns of the Dataset are:\n",
      "\n",
      "Index(['Id', 'DocNumber', 'MetadataSubject', 'MetadataTo', 'MetadataFrom',\n",
      "       'SenderPersonId', 'MetadataDateSent', 'MetadataDateReleased',\n",
      "       'MetadataPdfLink', 'MetadataCaseNumber', 'MetadataDocumentClass',\n",
      "       'ExtractedSubject', 'ExtractedTo', 'ExtractedFrom', 'ExtractedCc',\n",
      "       'ExtractedDateSent', 'ExtractedCaseNumber', 'ExtractedDocNumber',\n",
      "       'ExtractedDateReleased', 'ExtractedReleaseInPartOrFull',\n",
      "       'ExtractedBodyText', 'RawText'],\n",
      "      dtype='object')\n"
     ]
    }
   ],
   "source": [
    "print(\"Columns of the Dataset are:\\n\")\n",
    "\n",
    "print(df_12.columns)"
   ]
  },
  {
   "cell_type": "markdown",
   "id": "6e7ca756",
   "metadata": {},
   "source": [
    "### Seeing the Information of the Dataset"
   ]
  },
  {
   "cell_type": "code",
   "execution_count": 67,
   "id": "e41fad31",
   "metadata": {
    "scrolled": true
   },
   "outputs": [
    {
     "name": "stdout",
     "output_type": "stream",
     "text": [
      "Information of the Dataset is:\n",
      "\n",
      "<class 'pandas.core.frame.DataFrame'>\n",
      "RangeIndex: 7945 entries, 0 to 7944\n",
      "Data columns (total 22 columns):\n",
      " #   Column                        Non-Null Count  Dtype  \n",
      "---  ------                        --------------  -----  \n",
      " 0   Id                            7945 non-null   int64  \n",
      " 1   DocNumber                     7945 non-null   object \n",
      " 2   MetadataSubject               7649 non-null   object \n",
      " 3   MetadataTo                    7690 non-null   object \n",
      " 4   MetadataFrom                  7788 non-null   object \n",
      " 5   SenderPersonId                7788 non-null   float64\n",
      " 6   MetadataDateSent              7813 non-null   object \n",
      " 7   MetadataDateReleased          7945 non-null   object \n",
      " 8   MetadataPdfLink               7945 non-null   object \n",
      " 9   MetadataCaseNumber            7945 non-null   object \n",
      " 10  MetadataDocumentClass         7945 non-null   object \n",
      " 11  ExtractedSubject              6260 non-null   object \n",
      " 12  ExtractedTo                   3288 non-null   object \n",
      " 13  ExtractedFrom                 6692 non-null   object \n",
      " 14  ExtractedCc                   2640 non-null   object \n",
      " 15  ExtractedDateSent             6628 non-null   object \n",
      " 16  ExtractedCaseNumber           7944 non-null   object \n",
      " 17  ExtractedDocNumber            7944 non-null   object \n",
      " 18  ExtractedDateReleased         7944 non-null   object \n",
      " 19  ExtractedReleaseInPartOrFull  7945 non-null   object \n",
      " 20  ExtractedBodyText             6742 non-null   object \n",
      " 21  RawText                       7945 non-null   object \n",
      "dtypes: float64(1), int64(1), object(20)\n",
      "memory usage: 1.3+ MB\n",
      "None\n"
     ]
    }
   ],
   "source": [
    "print(\"Information of the Dataset is:\\n\")\n",
    "\n",
    "print(df_12.info())"
   ]
  },
  {
   "cell_type": "markdown",
   "id": "e34aed0a",
   "metadata": {},
   "source": [
    "## Dataset 13: Hillary Clinton Datasets Persons.csv"
   ]
  },
  {
   "cell_type": "markdown",
   "id": "02d965d3",
   "metadata": {},
   "source": [
    "### Loading and Printing  Dataset"
   ]
  },
  {
   "cell_type": "code",
   "execution_count": 70,
   "id": "e08bbbf4",
   "metadata": {
    "scrolled": true
   },
   "outputs": [
    {
     "name": "stdout",
     "output_type": "stream",
     "text": [
      "Dataset is:\n",
      "\n",
      "   Id                          Name\n",
      "0   1                111th Congress\n",
      "1   2  AGNA USEMB Kabul Afghanistan\n",
      "2   3                            AP\n",
      "3   4                      ASUNCION\n",
      "4   5                          Alec\n"
     ]
    }
   ],
   "source": [
    "df_13 = pd.read_csv(r\"Dataset\\Extra Dataset\\Hillary Clinton Datasets\\Persons.csv\")\n",
    "\n",
    "print(\"Dataset is:\\n\")\n",
    "print(df_13.head())"
   ]
  },
  {
   "cell_type": "markdown",
   "id": "a56dbffa",
   "metadata": {},
   "source": [
    "### Seeing the Shape of the Dataset"
   ]
  },
  {
   "cell_type": "code",
   "execution_count": 71,
   "id": "5be88ed3",
   "metadata": {},
   "outputs": [
    {
     "name": "stdout",
     "output_type": "stream",
     "text": [
      "Shape of the Dataset is:\n",
      "\n",
      "(513, 2)\n"
     ]
    }
   ],
   "source": [
    "print(\"Shape of the Dataset is:\\n\")\n",
    "\n",
    "print(df_13.shape)"
   ]
  },
  {
   "cell_type": "markdown",
   "id": "b0c55ad6",
   "metadata": {},
   "source": [
    "### Seeing the Columns of the Dataset"
   ]
  },
  {
   "cell_type": "code",
   "execution_count": 72,
   "id": "2df4f0f8",
   "metadata": {},
   "outputs": [
    {
     "name": "stdout",
     "output_type": "stream",
     "text": [
      "Columns of the Dataset are:\n",
      "\n",
      "Index(['Id', 'Name'], dtype='object')\n"
     ]
    }
   ],
   "source": [
    "print(\"Columns of the Dataset are:\\n\")\n",
    "\n",
    "print(df_13.columns)"
   ]
  },
  {
   "cell_type": "markdown",
   "id": "11512cf3",
   "metadata": {},
   "source": [
    "### Seeing the Information of the Dataset"
   ]
  },
  {
   "cell_type": "code",
   "execution_count": 73,
   "id": "03d4dfad",
   "metadata": {
    "scrolled": true
   },
   "outputs": [
    {
     "name": "stdout",
     "output_type": "stream",
     "text": [
      "Information of the Dataset is:\n",
      "\n",
      "<class 'pandas.core.frame.DataFrame'>\n",
      "RangeIndex: 513 entries, 0 to 512\n",
      "Data columns (total 2 columns):\n",
      " #   Column  Non-Null Count  Dtype \n",
      "---  ------  --------------  ----- \n",
      " 0   Id      513 non-null    int64 \n",
      " 1   Name    513 non-null    object\n",
      "dtypes: int64(1), object(1)\n",
      "memory usage: 8.1+ KB\n",
      "None\n"
     ]
    }
   ],
   "source": [
    "print(\"Information of the Dataset is:\\n\")\n",
    "\n",
    "print(df_13.info())"
   ]
  },
  {
   "cell_type": "markdown",
   "id": "890c8eb5",
   "metadata": {},
   "source": [
    "## Email Description and Classification Dataset\n",
    "\n",
    "## Dataset 14: Email Dataset.csv"
   ]
  },
  {
   "cell_type": "markdown",
   "id": "aa887374",
   "metadata": {},
   "source": [
    "### Loading and Printing  Dataset"
   ]
  },
  {
   "cell_type": "code",
   "execution_count": 75,
   "id": "20d1e610",
   "metadata": {
    "scrolled": true
   },
   "outputs": [
    {
     "name": "stdout",
     "output_type": "stream",
     "text": [
      "Dataset is:\n",
      "\n",
      "         Message ID                                   From  \\\n",
      "0  17d4d46e0a0a4383             contestinvite@codechef.com   \n",
      "1  17d4d11679830d85          messages-noreply@linkedin.com   \n",
      "2  17d4ca8aba50de36  messaging-digest-noreply@linkedin.com   \n",
      "3  17d4c8f5b6467c68                   no-reply@spotify.com   \n",
      "4  17d4c882ac4bb740         jobalerts-noreply@linkedin.com   \n",
      "\n",
      "                            From (name)                   To  \\\n",
      "0                     Meg from CodeChef  utaku0611@gmail.com   \n",
      "1                              LinkedIn  utaku0611@gmail.com   \n",
      "2  ARUMULLA YASWANTH REDDY via LinkedIn  utaku0611@gmail.com   \n",
      "3                               Spotify  utaku0611@gmail.com   \n",
      "4                   LinkedIn Job Alerts  utaku0611@gmail.com   \n",
      "\n",
      "             To (Name)                                            Subject  \\\n",
      "0  utaku0611@gmail.com  Coders, you're invited to C.O.D.E.R.S (Div 2 &...   \n",
      "1     Priyanjali Gupta                        341 people are noticing you   \n",
      "2     Priyanjali Gupta                ARUMULLA YASWANTH just messaged you   \n",
      "3  utaku0611@gmail.com                           Breathe in, breathe out.   \n",
      "4     Priyanjali Gupta               30+ new jobs for 'android developer'   \n",
      "\n",
      "                Date Sent           Date Received  \\\n",
      "0  Nov 23, 2021, 20:20:30  Nov 23, 2021, 20:20:30   \n",
      "1  Nov 23, 2021, 19:22:02  Nov 23, 2021, 19:22:06   \n",
      "2  Nov 23, 2021, 17:27:41  Nov 23, 2021, 17:27:42   \n",
      "3  Nov 23, 2021, 17:00:00  Nov 23, 2021, 17:00:03   \n",
      "4  Nov 23, 2021, 16:52:10  Nov 23, 2021, 16:52:12   \n",
      "\n",
      "                                          Email Text  spam  \n",
      "0  \\nHola CodeCheffers,\\n\\nTomorrow we're serving...     0  \n",
      "1  See who's looking at your\\nprofile‌ ‌ ‌ ‌ ‌ ‌ ...     1  \n",
      "2  3 new messages await your response\\n\\nARUMULLA...     0  \n",
      "3  Spend quality time with yourself.\\n\\n Spend qu...     1  \n",
      "4  View jobs in India\\n‌ ‌ ‌ ‌ ‌ ‌ ‌ ‌ ‌ ‌ ‌ ‌ ‌ ...     0  \n"
     ]
    }
   ],
   "source": [
    "df_14 = pd.read_csv(r\"Dataset\\Extra Dataset\\email_dataset.csv\")\n",
    "\n",
    "print(\"Dataset is:\\n\")\n",
    "print(df_14.head())"
   ]
  },
  {
   "cell_type": "markdown",
   "id": "fdf8a495",
   "metadata": {},
   "source": [
    "### Seeing the Shape of the Dataset"
   ]
  },
  {
   "cell_type": "code",
   "execution_count": 76,
   "id": "e417d3a2",
   "metadata": {},
   "outputs": [
    {
     "name": "stdout",
     "output_type": "stream",
     "text": [
      "Shape of the Dataset is:\n",
      "\n",
      "(293, 10)\n"
     ]
    }
   ],
   "source": [
    "print(\"Shape of the Dataset is:\\n\")\n",
    "\n",
    "print(df_14.shape)"
   ]
  },
  {
   "cell_type": "markdown",
   "id": "2aeb0f0f",
   "metadata": {},
   "source": [
    "### Seeing the Columns of the Dataset"
   ]
  },
  {
   "cell_type": "code",
   "execution_count": 77,
   "id": "8e4975d1",
   "metadata": {},
   "outputs": [
    {
     "name": "stdout",
     "output_type": "stream",
     "text": [
      "Columns of the Dataset are:\n",
      "\n",
      "Index(['Message ID', 'From', 'From (name)', 'To', 'To (Name)', 'Subject',\n",
      "       'Date Sent', 'Date Received', 'Email Text', 'spam'],\n",
      "      dtype='object')\n"
     ]
    }
   ],
   "source": [
    "print(\"Columns of the Dataset are:\\n\")\n",
    "\n",
    "print(df_14.columns)"
   ]
  },
  {
   "cell_type": "markdown",
   "id": "62b5e954",
   "metadata": {},
   "source": [
    "### Seeing the Information of the Dataset"
   ]
  },
  {
   "cell_type": "code",
   "execution_count": 78,
   "id": "fd0f3365",
   "metadata": {
    "scrolled": true
   },
   "outputs": [
    {
     "name": "stdout",
     "output_type": "stream",
     "text": [
      "Information of the Dataset is:\n",
      "\n",
      "<class 'pandas.core.frame.DataFrame'>\n",
      "RangeIndex: 293 entries, 0 to 292\n",
      "Data columns (total 10 columns):\n",
      " #   Column         Non-Null Count  Dtype \n",
      "---  ------         --------------  ----- \n",
      " 0   Message ID     293 non-null    object\n",
      " 1   From           293 non-null    object\n",
      " 2   From (name)    293 non-null    object\n",
      " 3   To             293 non-null    object\n",
      " 4   To (Name)      281 non-null    object\n",
      " 5   Subject        292 non-null    object\n",
      " 6   Date Sent      293 non-null    object\n",
      " 7   Date Received  293 non-null    object\n",
      " 8   Email Text     293 non-null    object\n",
      " 9   spam           293 non-null    int64 \n",
      "dtypes: int64(1), object(9)\n",
      "memory usage: 23.0+ KB\n",
      "None\n"
     ]
    }
   ],
   "source": [
    "print(\"Information of the Dataset is:\\n\")\n",
    "\n",
    "print(df_14.info())"
   ]
  },
  {
   "cell_type": "markdown",
   "id": "a98f9686",
   "metadata": {},
   "source": [
    "### Final Dataset Selection: Email Description and Classification Dataset\n",
    "\n",
    "After thoroughly exploring and analyzing various datasets, we have selected **Dataset 14: Email Description and Classification Dataset** as the most suitable for our project. This dataset provides comprehensive information that aligns perfectly with our objectives and allows for additional feature extraction to improve the model's performance.\n",
    "\n",
    "### Email Spam Classification Project\n",
    "\n",
    "This project focuses on building a machine learning model to classify spam emails using a detailed dataset. The dataset includes information such as sender, receiver, subject lines, email content, and spam labels. The aim is to analyze these features and train a model to accurately identify spam.\n",
    "\n",
    "### Dataset Details:\n",
    "The **Email Description and Classification Dataset** provides key insights into:\n",
    "- **Sender and Receiver Information**: Helps analyze patterns in communication.\n",
    "- **Email Subject and Body**: Useful for extracting meaningful terms and spotting spam indicators.\n",
    "- **Spam Labels**: Clearly marked to train and evaluate the model’s accuracy.\n",
    "\n",
    "Additionally, this dataset allows for extracting advanced features like no-reply addresses, company-specific keywords, and response patterns to further improve the spam detection system."
   ]
  },
  {
   "cell_type": "code",
   "execution_count": null,
   "id": "0ae77549",
   "metadata": {},
   "outputs": [],
   "source": []
  }
 ],
 "metadata": {
  "kernelspec": {
   "display_name": "Python 3 (ipykernel)",
   "language": "python",
   "name": "python3"
  },
  "language_info": {
   "codemirror_mode": {
    "name": "ipython",
    "version": 3
   },
   "file_extension": ".py",
   "mimetype": "text/x-python",
   "name": "python",
   "nbconvert_exporter": "python",
   "pygments_lexer": "ipython3",
   "version": "3.11.4"
  }
 },
 "nbformat": 4,
 "nbformat_minor": 5
}
